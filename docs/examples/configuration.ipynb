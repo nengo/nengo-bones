{
 "cells": [
  {
   "cell_type": "markdown",
   "metadata": {},
   "source": [
    "# Configuration options\n",
    "\n",
    "All Nengo Bones configuration is done through the `.nengobones.yml` file.\n",
    "In this notebook we will demonstrate the different configuration options\n",
    "available and how to use them to customize behaviour for different use cases.\n",
    "\n",
    "First we'll define some utility functions we'll use throughout this notebook:"
   ]
  },
  {
   "cell_type": "code",
   "execution_count": null,
   "metadata": {},
   "outputs": [],
   "source": [
    "def write_yml(contents):\n",
    "    \"\"\"Create a sample .nengo.yml file from a string.\"\"\"\n",
    "\n",
    "    nengo_yml = \"pkg_name: example\\nrepo_name: nengo-bones/example\\n\"\n",
    "    nengo_yml += contents\n",
    "\n",
    "    with open(\".nengobones.yml\", \"w\") as f:\n",
    "        f.write(nengo_yml)\n",
    "\n",
    "\n",
    "def display_contents(filename, sections=None):\n",
    "    \"\"\"\n",
    "    Display the contents of a file.\n",
    "\n",
    "    The 'sections' argument filters the file to show only the\n",
    "    specified sections.\n",
    "    \"\"\"\n",
    "\n",
    "    with open(filename) as f:\n",
    "        data = f.readlines()\n",
    "\n",
    "    # strip out blank lines\n",
    "    data = [x for x in data if x.strip() != \"\"]\n",
    "\n",
    "    if sections is None:\n",
    "        display_data = data\n",
    "    else:\n",
    "        # pull out only the requested sections\n",
    "        display_data = []\n",
    "        for sec in sections:\n",
    "            for i, line in enumerate(data):\n",
    "                if ('\"$COMMAND\" == \"%s\"' % sec in line\n",
    "                        or line.startswith(sec)):\n",
    "                    section_data = data[i:]\n",
    "                    break\n",
    "            for i, line in enumerate(section_data[1:]):\n",
    "                if not line.startswith(\" \"):\n",
    "                    section_data = section_data[:i+1]\n",
    "                    break\n",
    "            display_data.extend(section_data)\n",
    "\n",
    "\n",
    "    print(\"\".join(display_data).rstrip(\"\\n\"))"
   ]
  },
  {
   "cell_type": "markdown",
   "metadata": {},
   "source": [
    "## CI scripts\n",
    "\n",
    "Nengo Bones uses a continuous integration (CI) setup\n",
    "wherein build jobs are associated with different shell scripts,\n",
    "and each script defines commands to be executed at different\n",
    "stages during the build process.  These scripts are configured\n",
    "through the ``ci_scripts`` section of ``.nengobones.yml``.\n",
    "The basic step is to add an entry with `- template: scriptname`\n",
    "for each script template that we want to be rendered.\n",
    "As an example, in this section we will use the \"test\" template,\n",
    "but all the options we describe here work for any of the templated scripts.\n",
    "\n",
    "Normally the `.nengobones.yml` file is a text file sitting in the\n",
    "root directory of the repository.  For demonstration purposes,\n",
    "in this notebook we will be generating different config files on-the-fly\n",
    "using the utility functions from above."
   ]
  },
  {
   "cell_type": "code",
   "execution_count": null,
   "metadata": {},
   "outputs": [],
   "source": [
    "nengobones_yml = \"\"\"\n",
    "ci_scripts:\n",
    "    - template: test\n",
    "\"\"\"\n",
    "write_yml(nengobones_yml)  # create .nengobones.yml file\n",
    "!generate-bones ci-scripts   # call the generate-bones script\n",
    "display_contents(\"test.sh\")  # display the contents of the generated file"
   ]
  },
  {
   "cell_type": "markdown",
   "metadata": {},
   "source": [
    "There is a lot of information in that file that we don't\n",
    "really need to worry about (that's the whole point of Nengo Bones,\n",
    "to take care of those details for us).  We can see that the\n",
    "overall structure is made up of behaviour defined for different\n",
    "build stages (e.g. \"install\", \"after_install\", \"before_script\", etc.).\n",
    "In most cases all the important action happens in the \"install\"\n",
    "and \"script\" stages:"
   ]
  },
  {
   "cell_type": "code",
   "execution_count": null,
   "metadata": {},
   "outputs": [],
   "source": [
    "display_contents(\"test.sh\", sections=[\"install\", \"script\"])"
   ]
  },
  {
   "cell_type": "markdown",
   "metadata": {},
   "source": [
    "In the \"install\" stage we install any of the package requirements\n",
    "needed to run the script. In this case we can see we're installing\n",
    "`pytest`, `pytest-xdist`, and the current package (including any\n",
    "optional dependencies defined in the `[tests]` `extra_requires`\n",
    "directive).\n",
    "\n",
    "If we need to add extra packages to this default installation,\n",
    "that can be done with the `pip_install` or `conda_install` configuration\n",
    "options (to install packages through `pip` or `conda`, respectively):"
   ]
  },
  {
   "cell_type": "code",
   "execution_count": null,
   "metadata": {},
   "outputs": [],
   "source": [
    "nengobones_yml = \"\"\"\n",
    "ci_scripts:\n",
    "    - template: test\n",
    "      pip_install:\n",
    "          - an-extra-pip-package\n",
    "      conda_install:\n",
    "          - an-extra-conda-package\n",
    "\"\"\"\n",
    "write_yml(nengobones_yml)\n",
    "!generate-bones ci-scripts\n",
    "display_contents(\"test.sh\", sections=[\"install\"])"
   ]
  },
  {
   "cell_type": "markdown",
   "metadata": {},
   "source": [
    "Note that requirements should generally be added to the package\n",
    "requirements defined in `setup.py` (in which case they would be\n",
    "automatically installed in the `pip install -e \".[tests]\"` step).\n",
    "That way anyone can easily install the necessary packages and run\n",
    "the tests without having to go through the CI scripts.\n",
    "The `pip_install` and `conda_install` options are only necessary\n",
    "if that isn't feasible for some reason.\n",
    "\n",
    "The \"script\" stage is where the main work of the script is done.\n",
    "In the case of the \"test\" script, this means calling `pytest` to \n",
    "run the test suite:"
   ]
  },
  {
   "cell_type": "code",
   "execution_count": null,
   "metadata": {},
   "outputs": [],
   "source": [
    "display_contents(\"test.sh\", sections=[\"script\"])"
   ]
  },
  {
   "cell_type": "markdown",
   "metadata": {},
   "source": [
    "Ignore the `$TEST_ARGS` part for now. We will cover that when\n",
    "we come to the `.travis.yml` configuration.\n",
    "\n",
    "As with the \"install\" stage, the \"script\" stage can also be\n",
    "customized if we want to add extra commands, either before or\n",
    "after the main script body:"
   ]
  },
  {
   "cell_type": "code",
   "execution_count": null,
   "metadata": {},
   "outputs": [],
   "source": [
    "nengobones_yml = \"\"\"\n",
    "ci_scripts:\n",
    "    - template: test\n",
    "      pre_commands:\n",
    "          - echo \"this command will run at the beginning\"\n",
    "      post_commands:\n",
    "          - echo \"this command will run at the end\"\n",
    "\"\"\"\n",
    "write_yml(nengobones_yml)\n",
    "!generate-bones ci-scripts\n",
    "display_contents(\"test.sh\", sections=[\"script\"])"
   ]
  },
  {
   "cell_type": "markdown",
   "metadata": {},
   "source": [
    "We can also use the same template multiple times, passing\n",
    "different options to generate different output scripts.\n",
    "In this case we need to use the `output_name` config option\n",
    "to distinguish different rendered scripts:"
   ]
  },
  {
   "cell_type": "code",
   "execution_count": null,
   "metadata": {},
   "outputs": [],
   "source": [
    "nengobones_yml = \"\"\"\n",
    "ci_scripts:\n",
    "    - template: test\n",
    "      pre_commands:\n",
    "          - echo \"this is test\"\n",
    "    - template: test\n",
    "      output_name: test2\n",
    "      pre_commands:\n",
    "          - echo \"this is test2\"\n",
    "\"\"\"\n",
    "write_yml(nengobones_yml)\n",
    "!generate-bones ci-scripts\n",
    "print(\"Contents of test.sh\")\n",
    "print(\"-------------------\")\n",
    "display_contents(\"test.sh\", sections=[\"script\"])\n",
    "print(\"\\nContents of test2.sh\")\n",
    "print(\"--------------------\")\n",
    "display_contents(\"test2.sh\", sections=[\"script\"])"
   ]
  },
  {
   "cell_type": "markdown",
   "metadata": {},
   "source": [
    "### Test script options\n",
    "\n",
    "The \"test\" script also has some configuration options specific\n",
    "to that script.  First, we can collect coverage information while\n",
    "tests are running by setting `coverage: true`:"
   ]
  },
  {
   "cell_type": "code",
   "execution_count": null,
   "metadata": {},
   "outputs": [],
   "source": [
    "nengobones_yml = \"\"\"\n",
    "ci_scripts:\n",
    "    - template: test\n",
    "      coverage: true\n",
    "\"\"\"\n",
    "write_yml(nengobones_yml)\n",
    "!generate-bones ci-scripts\n",
    "display_contents(\"test.sh\", sections=[\"install\", \"script\", \"after_script\"])"
   ]
  },
  {
   "cell_type": "markdown",
   "metadata": {},
   "source": [
    "Note that the script is now installing extra packages, adding\n",
    "extra arguments to `pytest`, and uploading the results to\n",
    "[Codecov](https://codecov.io/) at the end.\n",
    "\n",
    "Nengo backends also often want to run the core Nengo tests\n",
    "in addition to their own test suite.  This can be accomplished\n",
    "by setting `nengo_tests: true`:"
   ]
  },
  {
   "cell_type": "code",
   "execution_count": null,
   "metadata": {},
   "outputs": [],
   "source": [
    "nengobones_yml = \"\"\"\n",
    "ci_scripts:\n",
    "    - template: test\n",
    "      nengo_tests: true\n",
    "\"\"\"\n",
    "write_yml(nengobones_yml)\n",
    "!generate-bones ci-scripts\n",
    "display_contents(\"test.sh\", sections=[\"script\"])"
   ]
  },
  {
   "cell_type": "markdown",
   "metadata": {},
   "source": [
    "## TravisCI config\n",
    "\n",
    "As mentioned above, the general idea is that TravisCI will\n",
    "create a number of build jobs, and each job will call one of\n",
    "the scripts we generated.  TravisCI is configured through its\n",
    "own `.travis.yml` file, so what we will be doing is using\n",
    "`.nengobones.yml` to generate `.travis.yml`.  This is done\n",
    "through the `travis_yml` section:"
   ]
  },
  {
   "cell_type": "code",
   "execution_count": null,
   "metadata": {},
   "outputs": [],
   "source": [
    "nengobones_yml = \"\"\"\n",
    "travis_yml:\n",
    "    jobs: []\n",
    "\"\"\"\n",
    "write_yml(nengobones_yml)\n",
    "!generate-bones travis-yml\n",
    "display_contents(\".travis.yml\")"
   ]
  },
  {
   "cell_type": "markdown",
   "metadata": {},
   "source": [
    "As before, there is a lot of detail here that we don't need to\n",
    "worry about because Nengo Bones will take care of it for us.\n",
    "The important part to understand is the overall structure."
   ]
  },
  {
   "cell_type": "markdown",
   "metadata": {},
   "source": [
    "### Global variables\n",
    "\n",
    "First, we create some global variables:"
   ]
  },
  {
   "cell_type": "code",
   "execution_count": null,
   "metadata": {},
   "outputs": [],
   "source": [
    "display_contents(\".travis.yml\", sections=[\"env\"])"
   ]
  },
  {
   "cell_type": "markdown",
   "metadata": {},
   "source": [
    "This shows the default variables.  We can add arbitrary\n",
    "variables to this list through the `global_vars` option:"
   ]
  },
  {
   "cell_type": "code",
   "execution_count": null,
   "metadata": {},
   "outputs": [],
   "source": [
    "nengobones_yml = \"\"\"\n",
    "travis_yml:\n",
    "    global_vars:\n",
    "        VAR0: val0\n",
    "        VAR1: val1\n",
    "    jobs: []\n",
    "\"\"\"\n",
    "write_yml(nengobones_yml)\n",
    "!generate-bones travis-yml\n",
    "display_contents(\".travis.yml\", sections=[\"env\"])"
   ]
  },
  {
   "cell_type": "markdown",
   "metadata": {},
   "source": [
    "Note that these variables will be set in order, with later variables\n",
    "overwriting earlier ones. So if, for example, we wanted to change the\n",
    "default script, we could do that by setting:"
   ]
  },
  {
   "cell_type": "code",
   "execution_count": null,
   "metadata": {},
   "outputs": [],
   "source": [
    "nengobones_yml = \"\"\"\n",
    "travis_yml:\n",
    "    global_vars:\n",
    "        SCRIPT: not-test\n",
    "    jobs: []\n",
    "\"\"\"\n",
    "write_yml(nengobones_yml)\n",
    "!generate-bones travis-yml\n",
    "display_contents(\".travis.yml\", sections=[\"env\"])"
   ]
  },
  {
   "cell_type": "markdown",
   "metadata": {},
   "source": [
    "### Jobs\n",
    "\n",
    "The next important part of the `.travis.yml` is the \"jobs\" section."
   ]
  },
  {
   "cell_type": "code",
   "execution_count": null,
   "metadata": {},
   "outputs": [],
   "source": [
    "display_contents(\".travis.yml\", sections=[\"jobs\"])"
   ]
  },
  {
   "cell_type": "markdown",
   "metadata": {},
   "source": [
    "It is currently empty because we haven't defined any jobs\n",
    "in our `.nengobones.yml`.\n",
    "\n",
    "This is done via the `jobs` section of `travis_yml`, which\n",
    "specifies the builds we want to run during CI.  The most important\n",
    "part of each job is specifying which script we want to run.\n",
    "For example, we could create a single job that runs the \"test\" script:"
   ]
  },
  {
   "cell_type": "code",
   "execution_count": null,
   "metadata": {},
   "outputs": [],
   "source": [
    "nengobones_yml = \"\"\"\n",
    "travis_yml:\n",
    "    jobs:\n",
    "        - script: test\n",
    "\"\"\"\n",
    "write_yml(nengobones_yml)\n",
    "!generate-bones travis-yml\n",
    "display_contents(\".travis.yml\", sections=[\"jobs\"])"
   ]
  },
  {
   "cell_type": "markdown",
   "metadata": {},
   "source": [
    "We can see that this causes the `$SCRIPT` variable to be set to `\"test\"`,\n",
    "which will then cause `test.sh` to be run during the various build steps.\n",
    "\n",
    "Similarly, we can set the `python_version` variable to change the Python\n",
    "version being used for that job.  For example, we could create two jobs\n",
    "that run the test suite with different python versions:"
   ]
  },
  {
   "cell_type": "code",
   "execution_count": null,
   "metadata": {},
   "outputs": [],
   "source": [
    "nengobones_yml = \"\"\"\n",
    "travis_yml:\n",
    "    jobs:\n",
    "        - script: test\n",
    "          python_version: 3.5\n",
    "        - script: test\n",
    "          python_version: 3.6\n",
    "\"\"\"\n",
    "write_yml(nengobones_yml)\n",
    "!generate-bones travis-yml\n",
    "display_contents(\".travis.yml\", sections=[\"jobs\"])"
   ]
  },
  {
   "cell_type": "markdown",
   "metadata": {},
   "source": [
    "The `test_args` option sets the `$TEST_ARGS` environment variable\n",
    "that we saw in the `test.sh` script above.  Recall that this will\n",
    "be passed to the `pytest` command, like `pytest my_project ... $TEST_ARGS`.\n",
    "This can be useful for projects that define custom pytest arguments that\n",
    "they might want to set for different jobs, e.g.:"
   ]
  },
  {
   "cell_type": "code",
   "execution_count": null,
   "metadata": {},
   "outputs": [],
   "source": [
    "nengobones_yml = \"\"\"\n",
    "travis_yml:\n",
    "    jobs:\n",
    "        - script: test\n",
    "          test_args: --do-a-special-test\n",
    "\"\"\"\n",
    "write_yml(nengobones_yml)\n",
    "!generate-bones travis-yml\n",
    "display_contents(\".travis.yml\", sections=[\"jobs\"])"
   ]
  },
  {
   "cell_type": "markdown",
   "metadata": {},
   "source": [
    "Note that all these options are simply shortcuts for setting\n",
    "environment variables.  We can also set arbitrary environment\n",
    "variables through the `env` option:"
   ]
  },
  {
   "cell_type": "code",
   "execution_count": null,
   "metadata": {},
   "outputs": [],
   "source": [
    "nengobones_yml = \"\"\"\n",
    "travis_yml:\n",
    "    jobs:\n",
    "        - script: test\n",
    "          env:\n",
    "              VAR0: val0\n",
    "\"\"\"\n",
    "write_yml(nengobones_yml)\n",
    "!generate-bones travis-yml\n",
    "display_contents(\".travis.yml\", sections=[\"jobs\"])"
   ]
  },
  {
   "cell_type": "markdown",
   "metadata": {},
   "source": [
    "Any other options set for a job will be passed directly on to the\n",
    "`.travis.yml` config for that job.  This opens up a wide range of\n",
    "configuration options (see https://docs.travis-ci.com/ for more information).\n",
    "As an example, we could divide jobs into different stages through\n",
    "the `stage` option:"
   ]
  },
  {
   "cell_type": "code",
   "execution_count": null,
   "metadata": {},
   "outputs": [],
   "source": [
    "nengobones_yml = \"\"\"\n",
    "travis_yml:\n",
    "    jobs:\n",
    "        - script: test\n",
    "          stage: stage 0\n",
    "        - script: docs\n",
    "          stage: stage 1\n",
    "\"\"\"\n",
    "write_yml(nengobones_yml)\n",
    "!generate-bones travis-yml\n",
    "display_contents(\".travis.yml\", sections=[\"jobs\"])"
   ]
  },
  {
   "cell_type": "markdown",
   "metadata": {},
   "source": [
    "### Automatic deployment\n",
    "\n",
    "Nengo Bones can also configure TravisCI to automatically deploy\n",
    "releases to PyPI.  This is activated by setting the `pypi_user`\n",
    "option, which should be the username for the PyPI account that will\n",
    "be used to upload the releases.  You will also need to go into the\n",
    "TravisCI settings for your repo and add a secure environment variable\n",
    "named `PYPI_TOKEN` containing that account's password.  Finally, you\n",
    "will need to make sure you are building the `deploy.sh` script by\n",
    "adding `- template: deploy` to your `ci_scripts`."
   ]
  },
  {
   "cell_type": "code",
   "execution_count": null,
   "metadata": {},
   "outputs": [],
   "source": [
    "nengobones_yml = \"\"\"\n",
    "ci_scripts:\n",
    "    - template: test\n",
    "    - template: deploy\n",
    "\n",
    "travis_yml:\n",
    "    jobs:\n",
    "        - script: test\n",
    "    pypi_user: test_user\n",
    "\"\"\"\n",
    "write_yml(nengobones_yml)\n",
    "!generate-bones travis-yml\n",
    "display_contents(\".travis.yml\", sections=[\"jobs\"])"
   ]
  },
  {
   "cell_type": "markdown",
   "metadata": {},
   "source": [
    "This will trigger an automatic PyPI release for any tagged commit.\n",
    "You can also do a test release by pushing to a branch named\n",
    "`release-candidate-x.y.z` (where `x.y.z` is the version number you\n",
    "want to test).\n",
    "\n",
    "The only other setting related to the automatic deployment is\n",
    "`deploy_dists`, which sets the distributions that will be built and\n",
    "uploaded with each release.  We can see above that the default is an\n",
    "`sdist`-only release, but we could, for example, add wheels by\n",
    "modifying `deploy_dists`:"
   ]
  },
  {
   "cell_type": "code",
   "execution_count": null,
   "metadata": {},
   "outputs": [],
   "source": [
    "nengobones_yml = \"\"\"\n",
    "ci_scripts:\n",
    "    - template: test\n",
    "    - template: deploy\n",
    "\n",
    "travis_yml:\n",
    "    jobs:\n",
    "        - script: test\n",
    "    pypi_user: test_user\n",
    "    deploy_dists:\n",
    "        - sdist\n",
    "        - bdist_wheel\n",
    "\"\"\"\n",
    "write_yml(nengobones_yml)\n",
    "!generate-bones travis-yml\n",
    "display_contents(\".travis.yml\", sections=[\"jobs\"])"
   ]
  },
  {
   "cell_type": "markdown",
   "metadata": {},
   "source": [
    "### Python environment setup\n",
    "\n",
    "The next section of the `.travis.yml` file sets up the python environment:"
   ]
  },
  {
   "cell_type": "code",
   "execution_count": null,
   "metadata": {},
   "outputs": [],
   "source": [
    "display_contents(\".travis.yml\", sections=[\"before_install\"])"
   ]
  },
  {
   "cell_type": "markdown",
   "metadata": {},
   "source": [
    "Note that we are calling `generate-bones ... ci-scripts` in this\n",
    "section in order to automatically generate all the scripts defined\n",
    "in the `.nengobones.yml` `ci_scripts` discussed above.  We also call\n",
    "`check-bones`, which will give an error if any of the templated files\n",
    "are out of date.\n",
    "\n",
    "There are no configuration options for this section (although note that\n",
    "it is using the `$PYTHON_VERSION` variable we set in the global variables\n",
    "above)."
   ]
  },
  {
   "cell_type": "markdown",
   "metadata": {},
   "source": [
    "### Build steps\n",
    "\n",
    "Finally we call our templated script in each of the build steps,\n",
    "which will execute the behaviour we defined in those scripts."
   ]
  },
  {
   "cell_type": "code",
   "execution_count": null,
   "metadata": {},
   "outputs": [],
   "source": [
    "display_contents(\".travis.yml\", sections=[\n",
    "    \"install\", \"after_install\", \"before_script\", \"script\"\n",
    "])\n",
    "print(\"...\")"
   ]
  },
  {
   "cell_type": "markdown",
   "metadata": {},
   "source": [
    "There are no configuration options for this section (instead this\n",
    "behaviour is controlled by configuring the ci scripts, as described\n",
    "in the `ci_scripts` section above)."
   ]
  },
  {
   "cell_type": "markdown",
   "metadata": {},
   "source": [
    "## Codecov config\n",
    "\n",
    "Nengo Bones will automatically upload coverage reports to\n",
    "[Codecov](https://codecov.io/) if the `coverage: true` option\n",
    "is set on the test script config.  Codecov reads the `.codecov.yml`\n",
    "configuration file, which Nengo Bones also has a template for and\n",
    "can be controlled through the `codecov_yml` option."
   ]
  },
  {
   "cell_type": "code",
   "execution_count": null,
   "metadata": {},
   "outputs": [],
   "source": [
    "nengobones_yml = \"\"\"\n",
    "codecov_yml: {}\n",
    "\"\"\"\n",
    "write_yml(nengobones_yml)\n",
    "!generate-bones codecov-yml\n",
    "display_contents(\".codecov.yml\")"
   ]
  },
  {
   "cell_type": "markdown",
   "metadata": {},
   "source": [
    "The first thing to be noted is the `!ci.appveyor.com` line.\n",
    "This tells Codecov not to wait for a coverage report from appveyor\n",
    "(generally we assume that all the coverage is being checked on TravisCI).\n",
    "This can be disabled by setting `skip_appveyor: false`:"
   ]
  },
  {
   "cell_type": "code",
   "execution_count": null,
   "metadata": {},
   "outputs": [],
   "source": [
    "nengobones_yml = \"\"\"\n",
    "codecov_yml:\n",
    "    skip_appveyor: false\n",
    "\"\"\"\n",
    "write_yml(nengobones_yml)\n",
    "!generate-bones codecov-yml\n",
    "display_contents(\".codecov.yml\", sections=[\"codecov\"])"
   ]
  },
  {
   "cell_type": "markdown",
   "metadata": {},
   "source": [
    "The other configuration options have to do with the target\n",
    "coverage at either the project or patch level.  These determine \n",
    "whether the codecov PR status checks will be marked as passing\n",
    "or failing.  The \"project\" coverage is the total lines of code\n",
    "covered by tests for the whole project.  The default value is\n",
    "\"auto\", meaning that the status check will pass if the total\n",
    "coverage is >= the coverage in the base branch of the PR.\n",
    "The \"patch\" coverage only looks at the lines of code modified\n",
    "in the PR.  The default value is \"100%\", meaning that every\n",
    "modified line of code needs to be covered by a test for the check to pass.\n",
    "\n",
    "These can be modified by the `abs_target` and `diff_target`\n",
    "config options, respectively:"
   ]
  },
  {
   "cell_type": "code",
   "execution_count": null,
   "metadata": {},
   "outputs": [],
   "source": [
    "nengobones_yml = \"\"\"\n",
    "codecov_yml:\n",
    "    abs_target: 80%\n",
    "    diff_target: 90%\n",
    "\"\"\"\n",
    "write_yml(nengobones_yml)\n",
    "!generate-bones codecov-yml\n",
    "display_contents(\".codecov.yml\", sections=[\"coverage\"])"
   ]
  }
 ],
 "metadata": {
  "kernelspec": {
   "display_name": "Python 3",
   "language": "python",
   "name": "python3"
  },
  "language_info": {
   "codemirror_mode": {
    "name": "ipython",
    "version": 3
   },
   "file_extension": ".py",
   "mimetype": "text/x-python",
   "name": "python",
   "nbconvert_exporter": "python",
   "pygments_lexer": "ipython3",
   "version": "3.7.0"
  }
 },
 "nbformat": 4,
 "nbformat_minor": 2
}
