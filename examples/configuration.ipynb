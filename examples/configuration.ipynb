{
 "cells": [
  {
   "cell_type": "markdown",
   "metadata": {},
   "source": [
    "# Configuration options\n",
    "\n",
    "All NengoBones configuration is done through the `.nengobones.yml` file. In this\n",
    "notebook we will demonstrate the different configuration options available and how to\n",
    "use them to customize behaviour for different use cases.\n",
    "\n",
    "First we'll define some utility functions we'll use throughout this notebook:"
   ]
  },
  {
   "cell_type": "code",
   "execution_count": 1,
   "metadata": {
    "execution": {
     "iopub.execute_input": "2025-03-18T17:21:01.020444Z",
     "iopub.status.busy": "2025-03-18T17:21:01.020025Z",
     "iopub.status.idle": "2025-03-18T17:21:01.127635Z",
     "shell.execute_reply": "2025-03-18T17:21:01.127096Z"
    }
   },
   "outputs": [],
   "source": [
    "from importlib import reload\n",
    "import pathlib\n",
    "\n",
    "import nengo_bones\n",
    "\n",
    "\n",
    "def write_yml(contents):\n",
    "    \"\"\"Create a sample .nengo.yml file from a string.\"\"\"\n",
    "\n",
    "    nengo_yml = \"project_name: Example Project\\n\"\n",
    "    nengo_yml += \"pkg_name: eg_package\\n\"\n",
    "    nengo_yml += \"repo_name: eg-org/eg-package\\n\"\n",
    "    nengo_yml += contents\n",
    "\n",
    "    with open(\".nengobones.yml\", \"w\", encoding=\"utf-8\") as f:\n",
    "        f.write(nengo_yml)\n",
    "\n",
    "\n",
    "def display_contents(filename, sections=None):\n",
    "    \"\"\"\n",
    "    Display the contents of a file.\n",
    "\n",
    "    The 'sections' argument filters the file to show only the\n",
    "    specified sections.\n",
    "    \"\"\"\n",
    "\n",
    "    with open(filename, encoding=\"utf-8\") as f:\n",
    "        data = f.readlines()\n",
    "\n",
    "    # strip out blank lines for .sh and .yml files\n",
    "    if filename.endswith(\".sh\") or filename.endswith(\".yml\"):\n",
    "        data = [x for x in data if x.strip() != \"\"]\n",
    "\n",
    "    if sections is None:\n",
    "        display_data = data\n",
    "    else:\n",
    "        # pull out only the requested sections\n",
    "        display_data = []\n",
    "        for sec in sections:\n",
    "            for i, line in enumerate(data):\n",
    "                if f'\"$COMMAND\" == \"{sec}\"' in line or line.startswith(sec):\n",
    "                    section_data = data[i:]\n",
    "                    break\n",
    "            for i, line in enumerate(section_data[1:]):\n",
    "                if filename.endswith(\".cfg\"):\n",
    "                    if line.startswith(\"[\"):\n",
    "                        section_data = section_data[: i + 1]\n",
    "                        break\n",
    "                else:\n",
    "                    if not line.startswith(\" \"):\n",
    "                        section_data = section_data[: i + 1]\n",
    "                        break\n",
    "            display_data.extend(section_data)\n",
    "\n",
    "    print(\"\".join(display_data).rstrip(\"\\n\"))"
   ]
  },
  {
   "cell_type": "markdown",
   "metadata": {},
   "source": [
    "## General options\n",
    "\n",
    "There are a few general configuration options that affect multiple templated files:\n",
    "\n",
    "- `project_name`: Natural-language name for the project (e.g., \"NengoBones\").\n",
    "- `pkg_name`: Import name for the project (e.g., \"nengo_bones\").\n",
    "- `repo_name`: Github organization/repository name (e.g., \"nengo/nengo-bones\").\n",
    "- `author`: Name of project author (defaults to \"Applied Brain Research\").\n",
    "- `author_email`: Email of project author (defaults to \"info@appliedbrainresearch.com\").\n",
    "- `description`: A brief, one-sentence description of the project.\n",
    "- `copyright_start`: The year the project was first publicly available (defaults to\n",
    "  current year).\n",
    "- `copyright_end`: The last year work was done on the project (defaults to current\n",
    "  year).\n",
    "- `min_python`: Minimum Python version (defaults to \"3.8\").\n",
    "- `main_branch`: Main `git` branch (defaults to `\"master\"`)."
   ]
  },
  {
   "cell_type": "markdown",
   "metadata": {},
   "source": [
    "## CI scripts\n",
    "\n",
    "NengoBones uses a continuous integration (CI) setup wherein build jobs are associated\n",
    "with different shell scripts, and each script defines commands to be executed at\n",
    "different stages during the build process. These scripts are configured through the\n",
    "`ci_scripts` section of `.nengobones.yml`. The basic step is to add an entry with\n",
    "`- template: scriptname` for each script template that we want to be rendered. As an\n",
    "example, in this section we will use the \"test\" template, but all the options we\n",
    "describe here work for any of the templated scripts.\n",
    "\n",
    "Normally the `.nengobones.yml` file is a text file sitting in the root directory of the\n",
    "repository. For demonstration purposes, in this notebook we will be generating different\n",
    "config files on-the-fly using the utility functions from above."
   ]
  },
  {
   "cell_type": "code",
   "execution_count": 2,
   "metadata": {
    "execution": {
     "iopub.execute_input": "2025-03-18T17:21:01.130023Z",
     "iopub.status.busy": "2025-03-18T17:21:01.129622Z",
     "iopub.status.idle": "2025-03-18T17:21:02.685419Z",
     "shell.execute_reply": "2025-03-18T17:21:02.684689Z"
    }
   },
   "outputs": [
    {
     "name": "stdout",
     "output_type": "stream",
     "text": [
      "#!/usr/bin/env bash\n",
      "# Automatically generated by nengo-bones, do not edit this file directly\n",
      "NAME=$0\n",
      "COMMAND=$1\n",
      "STATUS=0  # used to exit with non-zero status if any command fails\n",
      "# shellcheck disable=SC2034\n",
      "SCRIPT_DIR=$(cd \"$(dirname \"${BASH_SOURCE[0]}\")\" && pwd)\n",
      "export JOB_NUMBER=\"$GITHUB_RUN_ID-$GITHUB_RUN_ATTEMPT\"\n",
      "if [[ -n \"$JOB_SUFFIX\" ]]; then\n",
      "    export JOB_NUMBER=\"$JOB_NUMBER-$JOB_SUFFIX\"\n",
      "fi\n",
      "export GIT_BRANCH=\"${GITHUB_HEAD_REF:-${GITHUB_REF_NAME}}\"\n",
      "if [[ \"$GITHUB_REF_TYPE\" == \"tag\" ]]; then\n",
      "    export GIT_TAG=\"$GIT_BRANCH\"\n",
      "fi\n",
      "exe() {\n",
      "    echo \"\\$ $*\";\n",
      "    # remove empty spaces from args\n",
      "    args=( \"$@\" )\n",
      "    for i in \"${!args[@]}\"; do\n",
      "      [ -n \"${args[$i]}\" ] || unset \"args[$i]\"\n",
      "    done\n",
      "    \"${args[@]}\" || { echo -e \"\\033[1;31mCOMMAND '${args[0]}' FAILED\\033[0m\"; STATUS=1; }\n",
      "}\n",
      "if [[ ! -e eg_package ]]; then\n",
      "    echo \"Run this script from the root directory of this repository\"\n",
      "    exit 1\n",
      "fi\n",
      "if [[ \"$COMMAND\" == \"install\" ]]; then\n",
      "    :\n",
      "    exe pip install \"pytest>=7.0.0\"\n",
      "    exe pip install \"pytest-xdist>=3.2.0\"\n",
      "    exe pip install -e \".[tests]\"\n",
      "elif [[ \"$COMMAND\" == \"script\" ]]; then\n",
      "    # shellcheck disable=SC2086\n",
      "    exe pytest eg_package -v -n 3 --dist worksteal --color=yes --durations 20 $TEST_ARGS\n",
      "elif [[ \"$COMMAND\" == \"after_success\" ]]; then\n",
      "    :\n",
      "elif [[ \"$COMMAND\" == \"after_failure\" ]]; then\n",
      "    :\n",
      "elif [[ \"$COMMAND\" == \"after_script\" ]]; then\n",
      "    :\n",
      "elif [[ -z \"$COMMAND\" ]]; then\n",
      "    echo \"$NAME requires a command like 'install' or 'script'\"\n",
      "else\n",
      "    echo \"$NAME does not define $COMMAND\"\n",
      "fi\n",
      "exit \"$STATUS\"\n"
     ]
    }
   ],
   "source": [
    "nengobones_yml = \"\"\"\n",
    "ci_scripts:\n",
    "    - template: test\n",
    "\"\"\"\n",
    "# create .nengobones.yml file\n",
    "write_yml(nengobones_yml)\n",
    "# call the bones generate script\n",
    "!bones generate ci-scripts\n",
    "# display the contents of the generated file\n",
    "display_contents(\"test.sh\")"
   ]
  },
  {
   "cell_type": "markdown",
   "metadata": {},
   "source": [
    "There is a lot of information in that file that we don't really need to worry about\n",
    "(that's the whole point of NengoBones, to take care of those details for us). We can see\n",
    "that the overall structure is made up of behaviour defined for different build stages\n",
    "(e.g. \"install\", \"before_script\", etc.). In most cases all the important action happens\n",
    "in the \"install\" and \"script\" stages:"
   ]
  },
  {
   "cell_type": "code",
   "execution_count": 3,
   "metadata": {
    "execution": {
     "iopub.execute_input": "2025-03-18T17:21:02.768280Z",
     "iopub.status.busy": "2025-03-18T17:21:02.767790Z",
     "iopub.status.idle": "2025-03-18T17:21:02.771538Z",
     "shell.execute_reply": "2025-03-18T17:21:02.771072Z"
    }
   },
   "outputs": [
    {
     "name": "stdout",
     "output_type": "stream",
     "text": [
      "if [[ \"$COMMAND\" == \"install\" ]]; then\n",
      "    :\n",
      "    exe pip install \"pytest>=7.0.0\"\n",
      "    exe pip install \"pytest-xdist>=3.2.0\"\n",
      "    exe pip install -e \".[tests]\"\n",
      "elif [[ \"$COMMAND\" == \"script\" ]]; then\n",
      "    # shellcheck disable=SC2086\n",
      "    exe pytest eg_package -v -n 3 --dist worksteal --color=yes --durations 20 $TEST_ARGS\n"
     ]
    }
   ],
   "source": [
    "display_contents(\"test.sh\", sections=[\"install\", \"script\"])"
   ]
  },
  {
   "cell_type": "markdown",
   "metadata": {},
   "source": [
    "In the \"install\" stage we install any of the package requirements needed to run the\n",
    "script. In this case we can see we're installing `pytest`, `pytest-xdist`, and the\n",
    "current package (including any optional dependencies defined in the `[tests]`\n",
    "`extra_requires` directive).\n",
    "\n",
    "If we need to add extra packages to this default installation, that can be done with the\n",
    "`pip_install` configuration option:"
   ]
  },
  {
   "cell_type": "code",
   "execution_count": 4,
   "metadata": {
    "execution": {
     "iopub.execute_input": "2025-03-18T17:21:02.773451Z",
     "iopub.status.busy": "2025-03-18T17:21:02.773112Z",
     "iopub.status.idle": "2025-03-18T17:21:04.291611Z",
     "shell.execute_reply": "2025-03-18T17:21:04.290981Z"
    }
   },
   "outputs": [
    {
     "name": "stdout",
     "output_type": "stream",
     "text": [
      "if [[ \"$COMMAND\" == \"install\" ]]; then\n",
      "    exe pip install \"an-extra-pip-package\"\n",
      "    exe pip install \"pytest>=7.0.0\"\n",
      "    exe pip install \"pytest-xdist>=3.2.0\"\n",
      "    exe pip install -e \".[tests]\"\n"
     ]
    }
   ],
   "source": [
    "nengobones_yml = \"\"\"\n",
    "ci_scripts:\n",
    "    - template: test\n",
    "      pip_install:\n",
    "          - an-extra-pip-package\n",
    "\"\"\"\n",
    "write_yml(nengobones_yml)\n",
    "!bones generate ci-scripts\n",
    "display_contents(\"test.sh\", sections=[\"install\"])"
   ]
  },
  {
   "cell_type": "markdown",
   "metadata": {},
   "source": [
    "Note that requirements should generally be added to the package requirements defined in\n",
    "`setup.py` (in which case they would be automatically installed in the\n",
    "`pip install -e \".[tests]\"` step). That way anyone can easily install the necessary\n",
    "packages and run the tests without having to go through the CI scripts. The\n",
    "`pip_install` option is only necessary if that isn't feasible for some reason.\n",
    "\n",
    "The \"script\" stage is where the main work of the script is done. In the case of the\n",
    "\"test\" script, this means calling `pytest` to run the test suite:"
   ]
  },
  {
   "cell_type": "code",
   "execution_count": 5,
   "metadata": {
    "execution": {
     "iopub.execute_input": "2025-03-18T17:21:04.293803Z",
     "iopub.status.busy": "2025-03-18T17:21:04.293405Z",
     "iopub.status.idle": "2025-03-18T17:21:04.297154Z",
     "shell.execute_reply": "2025-03-18T17:21:04.296557Z"
    }
   },
   "outputs": [
    {
     "name": "stdout",
     "output_type": "stream",
     "text": [
      "elif [[ \"$COMMAND\" == \"script\" ]]; then\n",
      "    # shellcheck disable=SC2086\n",
      "    exe pytest eg_package -v -n 3 --dist worksteal --color=yes --durations 20 $TEST_ARGS\n"
     ]
    }
   ],
   "source": [
    "display_contents(\"test.sh\", sections=[\"script\"])"
   ]
  },
  {
   "cell_type": "markdown",
   "metadata": {},
   "source": [
    "As with the \"install\" stage, the \"script\" stage can also be customized if we want to add\n",
    "extra commands, either before or after the main script body:"
   ]
  },
  {
   "cell_type": "code",
   "execution_count": 6,
   "metadata": {
    "execution": {
     "iopub.execute_input": "2025-03-18T17:21:04.299144Z",
     "iopub.status.busy": "2025-03-18T17:21:04.298708Z",
     "iopub.status.idle": "2025-03-18T17:21:05.822416Z",
     "shell.execute_reply": "2025-03-18T17:21:05.821688Z"
    }
   },
   "outputs": [
    {
     "name": "stdout",
     "output_type": "stream",
     "text": [
      "elif [[ \"$COMMAND\" == \"script\" ]]; then\n",
      "    exe echo \"this command will run at the beginning\"\n",
      "    # shellcheck disable=SC2086\n",
      "    exe pytest eg_package -v -n 3 --dist worksteal --color=yes --durations 20 $TEST_ARGS\n",
      "    exe echo \"this command will run at the end\"\n"
     ]
    }
   ],
   "source": [
    "nengobones_yml = \"\"\"\n",
    "ci_scripts:\n",
    "    - template: test\n",
    "      pre_commands:\n",
    "          - echo \"this command will run at the beginning\"\n",
    "      post_commands:\n",
    "          - echo \"this command will run at the end\"\n",
    "\"\"\"\n",
    "write_yml(nengobones_yml)\n",
    "!bones generate ci-scripts\n",
    "display_contents(\"test.sh\", sections=[\"script\"])"
   ]
  },
  {
   "cell_type": "markdown",
   "metadata": {},
   "source": [
    "We can also use the same template multiple times, passing different options to generate\n",
    "different output scripts. In this case we need to use the `output_name` config option to\n",
    "distinguish different rendered scripts:"
   ]
  },
  {
   "cell_type": "code",
   "execution_count": 7,
   "metadata": {
    "execution": {
     "iopub.execute_input": "2025-03-18T17:21:05.824631Z",
     "iopub.status.busy": "2025-03-18T17:21:05.824422Z",
     "iopub.status.idle": "2025-03-18T17:21:07.387707Z",
     "shell.execute_reply": "2025-03-18T17:21:07.387019Z"
    }
   },
   "outputs": [
    {
     "name": "stdout",
     "output_type": "stream",
     "text": [
      "Contents of test.sh\n",
      "-------------------\n",
      "elif [[ \"$COMMAND\" == \"script\" ]]; then\n",
      "    exe echo \"this is test\"\n",
      "    # shellcheck disable=SC2086\n",
      "    exe pytest eg_package -v -n 3 --dist worksteal --color=yes --durations 20 $TEST_ARGS\n",
      "\n",
      "Contents of test2.sh\n",
      "--------------------\n",
      "elif [[ \"$COMMAND\" == \"script\" ]]; then\n",
      "    exe echo \"this is test2\"\n",
      "    # shellcheck disable=SC2086\n",
      "    exe pytest eg_package -v -n 3 --dist worksteal --color=yes --durations 20 $TEST_ARGS\n"
     ]
    }
   ],
   "source": [
    "nengobones_yml = \"\"\"\n",
    "ci_scripts:\n",
    "    - template: test\n",
    "      pre_commands:\n",
    "          - echo \"this is test\"\n",
    "    - template: test\n",
    "      output_name: test2\n",
    "      pre_commands:\n",
    "          - echo \"this is test2\"\n",
    "\"\"\"\n",
    "write_yml(nengobones_yml)\n",
    "!bones generate ci-scripts\n",
    "print(\"Contents of test.sh\")\n",
    "print(\"-------------------\")\n",
    "display_contents(\"test.sh\", sections=[\"script\"])\n",
    "print(\"\\nContents of test2.sh\")\n",
    "print(\"--------------------\")\n",
    "display_contents(\"test2.sh\", sections=[\"script\"])"
   ]
  },
  {
   "cell_type": "markdown",
   "metadata": {},
   "source": [
    "### Test script options\n",
    "\n",
    "The \"test\" script has some configuration options specific to that script. First, we can\n",
    "collect coverage information while tests are running by setting `coverage: true`:"
   ]
  },
  {
   "cell_type": "code",
   "execution_count": 8,
   "metadata": {
    "execution": {
     "iopub.execute_input": "2025-03-18T17:21:07.389861Z",
     "iopub.status.busy": "2025-03-18T17:21:07.389665Z",
     "iopub.status.idle": "2025-03-18T17:21:08.898882Z",
     "shell.execute_reply": "2025-03-18T17:21:08.898200Z"
    }
   },
   "outputs": [
    {
     "name": "stdout",
     "output_type": "stream",
     "text": [
      "if [[ \"$COMMAND\" == \"install\" ]]; then\n",
      "    :\n",
      "    exe pip install \"pytest>=7.0.0\"\n",
      "    exe pip install \"pytest-xdist>=3.2.0\"\n",
      "    exe pip install \"pytest-cov>=4.0.0\"\n",
      "    exe pip install -e \".[tests]\"\n",
      "elif [[ \"$COMMAND\" == \"script\" ]]; then\n",
      "    # shellcheck disable=SC2086\n",
      "    exe pytest eg_package -v -n 3 --dist worksteal --color=yes --durations 20 --cov=eg_package --cov-report=term-missing $TEST_ARGS\n",
      "elif [[ \"$COMMAND\" == \"after_script\" ]]; then\n",
      "    :\n"
     ]
    }
   ],
   "source": [
    "nengobones_yml = \"\"\"\n",
    "ci_scripts:\n",
    "    - template: test\n",
    "      coverage: true\n",
    "\"\"\"\n",
    "write_yml(nengobones_yml)\n",
    "!bones generate ci-scripts\n",
    "display_contents(\"test.sh\", sections=[\"install\", \"script\", \"after_script\"])"
   ]
  },
  {
   "cell_type": "markdown",
   "metadata": {},
   "source": [
    "Note that the script is now installing extra packages, adding extra arguments to\n",
    "`pytest`, and uploading the results to [Codecov](https://codecov.io/) at the end.\n",
    "\n",
    "Nengo backends also often want to run the core Nengo tests in addition to their own test\n",
    "suite. This can be accomplished by setting `nengo_tests: true`:"
   ]
  },
  {
   "cell_type": "code",
   "execution_count": 9,
   "metadata": {
    "execution": {
     "iopub.execute_input": "2025-03-18T17:21:08.901148Z",
     "iopub.status.busy": "2025-03-18T17:21:08.900725Z",
     "iopub.status.idle": "2025-03-18T17:21:10.373305Z",
     "shell.execute_reply": "2025-03-18T17:21:10.372599Z"
    }
   },
   "outputs": [
    {
     "name": "stdout",
     "output_type": "stream",
     "text": [
      "elif [[ \"$COMMAND\" == \"script\" ]]; then\n",
      "    # shellcheck disable=SC2086\n",
      "    exe pytest eg_package -v -n 3 --dist worksteal --color=yes --durations 20 $TEST_ARGS\n",
      "    # shellcheck disable=SC2086\n",
      "    exe pytest --pyargs nengo -v -n 3 --dist worksteal --color=yes --durations 20 $TEST_ARGS\n"
     ]
    }
   ],
   "source": [
    "nengobones_yml = \"\"\"\n",
    "ci_scripts:\n",
    "    - template: test\n",
    "      nengo_tests: true\n",
    "\"\"\"\n",
    "write_yml(nengobones_yml)\n",
    "!bones generate ci-scripts\n",
    "display_contents(\"test.sh\", sections=[\"script\"])"
   ]
  },
  {
   "cell_type": "markdown",
   "metadata": {},
   "source": [
    "## LICENSE.rst config\n",
    "\n",
    "A license file can be automatically generated by NengoBones. Currently the Nengo License\n",
    "and MIT License are supported as base templates (specified by the `type` tag)."
   ]
  },
  {
   "cell_type": "code",
   "execution_count": 10,
   "metadata": {
    "execution": {
     "iopub.execute_input": "2025-03-18T17:21:10.375614Z",
     "iopub.status.busy": "2025-03-18T17:21:10.375235Z",
     "iopub.status.idle": "2025-03-18T17:21:11.830279Z",
     "shell.execute_reply": "2025-03-18T17:21:11.829560Z"
    }
   },
   "outputs": [
    {
     "name": "stdout",
     "output_type": "stream",
     "text": [
      ".. Automatically generated by nengo-bones, do not edit this file directly\n",
      "\n",
      "***********************\n",
      "Example Project license\n",
      "***********************\n",
      "\n",
      "Copyright (c) 2025-2025 Applied Brain Research\n",
      "\n",
      "All information contained herein is and remains the property of\n",
      "Applied Brain Research. The intellectual and technical concepts contained\n",
      "herein are proprietary to Applied Brain Research and may be covered by U.S.\n",
      "and Foreign Patents, patents in process, and are protected by trade secret\n",
      "or copyright law. Dissemination of this information or reproduction of this\n",
      "material is strictly forbidden unless prior written permission is obtained\n",
      "from Applied Brain Research. Access to the source code contained herein is\n",
      "hereby forbidden to anyone except current Applied Brain Research employees,\n",
      "contractors or other outside parties that have executed Confidentiality\n",
      "and/or Non-disclosure agreements explicitly covering such access.\n",
      "\n",
      "The copyright notice above does not evidence any actual or intended\n",
      "publication or disclosure of this source code, which includes information\n",
      "that is confidential and/or proprietary, and is a trade secret, of\n",
      "Applied Brain Research. ANY REPRODUCTION, MODIFICATION, DISTRIBUTION,\n",
      "PUBLIC PERFORMANCE, OR PUBLIC DISPLAY OF OR THROUGH USE OF THIS\n",
      "SOURCE CODE WITHOUT THE EXPRESS WRITTEN CONSENT OF APPLIED BRAIN RESEARCH\n",
      "IS STRICTLY PROHIBITED, AND IN VIOLATION OF APPLICABLE LAWS AND\n",
      "INTERNATIONAL TREATIES. THE RECEIPT OR POSSESSION OF THIS SOURCE\n",
      "CODE AND/OR RELATED INFORMATION DOES NOT CONVEY OR IMPLY ANY RIGHTS\n",
      "TO REPRODUCE, DISCLOSE OR DISTRIBUTE ITS CONTENTS, OR TO MANUFACTURE,\n",
      "USE, OR SELL ANYTHING THAT IT MAY DESCRIBE, IN WHOLE OR IN PART.\n"
     ]
    }
   ],
   "source": [
    "nengobones_yml = \"\"\"\n",
    "license_rst:\n",
    "    type: nengo\n",
    "\"\"\"\n",
    "write_yml(nengobones_yml)\n",
    "!bones generate license-rst\n",
    "display_contents(\"LICENSE.rst\")"
   ]
  },
  {
   "cell_type": "markdown",
   "metadata": {},
   "source": [
    "Note that this template uses several of the [general options](#General-options)\n",
    "described above (`project_name`, `author`, `author_email`, `copyright_start`,\n",
    "`copyright_end`)."
   ]
  },
  {
   "cell_type": "code",
   "execution_count": 11,
   "metadata": {
    "execution": {
     "iopub.execute_input": "2025-03-18T17:21:11.832435Z",
     "iopub.status.busy": "2025-03-18T17:21:11.832058Z",
     "iopub.status.idle": "2025-03-18T17:21:13.310052Z",
     "shell.execute_reply": "2025-03-18T17:21:13.309420Z"
    }
   },
   "outputs": [
    {
     "name": "stdout",
     "output_type": "stream",
     "text": [
      ".. Automatically generated by nengo-bones, do not edit this file directly\n",
      "\n",
      "***********************\n",
      "Example Project license\n",
      "***********************\n",
      "\n",
      "Copyright (c) 1900-2025 A Different Author\n",
      "\n",
      "All information contained herein is and remains the property of\n",
      "Applied Brain Research. The intellectual and technical concepts contained\n",
      "herein are proprietary to Applied Brain Research and may be covered by U.S.\n",
      "and Foreign Patents, patents in process, and are protected by trade secret\n",
      "or copyright law. Dissemination of this information or reproduction of this\n",
      "material is strictly forbidden unless prior written permission is obtained\n",
      "from Applied Brain Research. Access to the source code contained herein is\n",
      "hereby forbidden to anyone except current Applied Brain Research employees,\n",
      "contractors or other outside parties that have executed Confidentiality\n",
      "and/or Non-disclosure agreements explicitly covering such access.\n",
      "\n",
      "The copyright notice above does not evidence any actual or intended\n",
      "publication or disclosure of this source code, which includes information\n",
      "that is confidential and/or proprietary, and is a trade secret, of\n",
      "Applied Brain Research. ANY REPRODUCTION, MODIFICATION, DISTRIBUTION,\n",
      "PUBLIC PERFORMANCE, OR PUBLIC DISPLAY OF OR THROUGH USE OF THIS\n",
      "SOURCE CODE WITHOUT THE EXPRESS WRITTEN CONSENT OF APPLIED BRAIN RESEARCH\n",
      "IS STRICTLY PROHIBITED, AND IN VIOLATION OF APPLICABLE LAWS AND\n",
      "INTERNATIONAL TREATIES. THE RECEIPT OR POSSESSION OF THIS SOURCE\n",
      "CODE AND/OR RELATED INFORMATION DOES NOT CONVEY OR IMPLY ANY RIGHTS\n",
      "TO REPRODUCE, DISCLOSE OR DISTRIBUTE ITS CONTENTS, OR TO MANUFACTURE,\n",
      "USE, OR SELL ANYTHING THAT IT MAY DESCRIBE, IN WHOLE OR IN PART.\n"
     ]
    }
   ],
   "source": [
    "nengobones_yml = \"\"\"\n",
    "author: A Different Author\n",
    "copyright_start: 1900\n",
    "license_rst:\n",
    "    type: mit\n",
    "\"\"\"\n",
    "write_yml(nengobones_yml)\n",
    "!bones generate license-rst\n",
    "display_contents(\"LICENSE.rst\")"
   ]
  },
  {
   "cell_type": "markdown",
   "metadata": {},
   "source": [
    "## CONTRIBUTING.rst config\n",
    "\n",
    "The CONTRIBUTING.rst file instructs potential contributors on how to contribute to the\n",
    "project. It has no configuration options, although it makes use of some of the\n",
    "[general options](#General-options) (`project_name`, `repo_name`)."
   ]
  },
  {
   "cell_type": "code",
   "execution_count": 12,
   "metadata": {
    "execution": {
     "iopub.execute_input": "2025-03-18T17:21:13.312186Z",
     "iopub.status.busy": "2025-03-18T17:21:13.311782Z",
     "iopub.status.idle": "2025-03-18T17:21:14.797025Z",
     "shell.execute_reply": "2025-03-18T17:21:14.796324Z"
    }
   },
   "outputs": [
    {
     "name": "stdout",
     "output_type": "stream",
     "text": [
      ".. Automatically generated by nengo-bones, do not edit this file directly\n",
      "\n",
      "*******************************\n",
      "Contributing to Example Project\n",
      "*******************************\n",
      "\n",
      "Issues and pull requests are always welcome!\n",
      "We appreciate help from the community to make Example Project better.\n",
      "\n",
      "Filing issues\n",
      "=============\n",
      "\n",
      "If you find a bug in Example Project,\n",
      "or think that a certain feature is missing,\n",
      "please consider\n",
      "`filing an issue <https://github.com/eg-org/eg-package/issues>`_!\n",
      "Please search the currently open issues first\n",
      "to see if your bug or feature request already exists.\n",
      "If so, feel free to add a comment to the issue\n",
      "so that we know that multiple people are affected.\n",
      "\n",
      "Making pull requests\n",
      "====================\n",
      "\n",
      "If you want to fix a bug or add a feature to Example Project,\n",
      "we welcome pull requests.\n",
      "Ensure that you fill out all sections of the pull request template,\n",
      "deleting the comments as you go.\n",
      "\n",
      "Contributor agreement\n",
      "=====================\n",
      "\n",
      "We require that all contributions be covered under\n",
      "our contributor assignment agreement. Please see\n",
      "`the agreement <https://www.nengo.ai/caa/>`_\n",
      "for instructions on how to sign.\n",
      "\n",
      "More details\n",
      "============\n",
      "\n",
      "For more details on how to contribute to Nengo,\n",
      "please see the `developer guide <https://www.nengo.ai/contributing/>`_.\n"
     ]
    }
   ],
   "source": [
    "nengobones_yml = \"\"\"\n",
    "contributing_rst: {}\n",
    "\"\"\"\n",
    "write_yml(nengobones_yml)\n",
    "\n",
    "!bones generate contributing-rst\n",
    "display_contents(\"CONTRIBUTING.rst\")"
   ]
  },
  {
   "cell_type": "markdown",
   "metadata": {},
   "source": [
    "## CONTRIBUTORS.rst config\n",
    "\n",
    "The CONTRIBUTORS.rst file links to the contributor list for the project. It always\n",
    "provides the Github contributors link, which lists all people who have committed to the\n",
    "project."
   ]
  },
  {
   "cell_type": "code",
   "execution_count": 13,
   "metadata": {
    "execution": {
     "iopub.execute_input": "2025-03-18T17:21:14.799475Z",
     "iopub.status.busy": "2025-03-18T17:21:14.798853Z",
     "iopub.status.idle": "2025-03-18T17:21:16.257824Z",
     "shell.execute_reply": "2025-03-18T17:21:16.257115Z"
    }
   },
   "outputs": [
    {
     "name": "stdout",
     "output_type": "stream",
     "text": [
      ".. Automatically generated by nengo-bones, do not edit this file directly\n",
      "\n",
      "****************************\n",
      "Example Project contributors\n",
      "****************************\n",
      "\n",
      "See https://github.com/eg-org/eg-package/graphs/contributors\n",
      "for a list of the people who have committed to Example Project.\n",
      "Thank you for your contributions!\n"
     ]
    }
   ],
   "source": [
    "nengobones_yml = \"\"\"\n",
    "contributors_rst: {}\n",
    "\"\"\"\n",
    "write_yml(nengobones_yml)\n",
    "\n",
    "!bones generate contributors-rst\n",
    "display_contents(\"CONTRIBUTORS.rst\")"
   ]
  },
  {
   "cell_type": "markdown",
   "metadata": {},
   "source": [
    "The `nengo_list` flag includes the full list of Nengo ecosystem contributors. It\n",
    "defaults to `True` if the license type is the \"nengo\" license, and False otherwise."
   ]
  },
  {
   "cell_type": "code",
   "execution_count": 14,
   "metadata": {
    "execution": {
     "iopub.execute_input": "2025-03-18T17:21:16.259995Z",
     "iopub.status.busy": "2025-03-18T17:21:16.259775Z",
     "iopub.status.idle": "2025-03-18T17:21:17.736887Z",
     "shell.execute_reply": "2025-03-18T17:21:17.736225Z"
    }
   },
   "outputs": [
    {
     "name": "stdout",
     "output_type": "stream",
     "text": [
      ".. Automatically generated by nengo-bones, do not edit this file directly\n",
      "\n",
      "****************************\n",
      "Example Project contributors\n",
      "****************************\n",
      "\n",
      "See https://github.com/eg-org/eg-package/graphs/contributors\n",
      "for a list of the people who have committed to Example Project.\n",
      "Thank you for your contributions!\n"
     ]
    }
   ],
   "source": [
    "nengobones_yml = \"\"\"\n",
    "contributors_rst:\n",
    "    nengo_list: True\n",
    "\"\"\"\n",
    "write_yml(nengobones_yml)\n",
    "\n",
    "!bones generate contributors-rst\n",
    "display_contents(\"CONTRIBUTORS.rst\")"
   ]
  },
  {
   "cell_type": "markdown",
   "metadata": {},
   "source": [
    "## MANIFEST.in config\n",
    "\n",
    "The MANIFEST.in template defines some standard rules for the project manifest:"
   ]
  },
  {
   "cell_type": "code",
   "execution_count": 15,
   "metadata": {
    "execution": {
     "iopub.execute_input": "2025-03-18T17:21:17.739126Z",
     "iopub.status.busy": "2025-03-18T17:21:17.738746Z",
     "iopub.status.idle": "2025-03-18T17:21:19.226123Z",
     "shell.execute_reply": "2025-03-18T17:21:19.225394Z"
    }
   },
   "outputs": [
    {
     "name": "stdout",
     "output_type": "stream",
     "text": [
      "# Automatically generated by nengo-bones, do not edit this file directly\n",
      "\n",
      "global-include *.py\n",
      "global-include *.sh\n",
      "global-include *.template\n",
      "include *.rst\n",
      "\n",
      "# Include files for CI and recreating the source dist\n",
      "include *.yml\n",
      "include *.yaml\n",
      "include *.toml\n",
      "include MANIFEST.in\n",
      "include .gitlint\n",
      "include .pylintrc\n",
      "\n",
      "# Directories to include\n",
      "graft docs\n",
      "\n",
      "# Subdirectories to exclude, if they exist\n",
      "prune docs/_build\n",
      "prune dist\n",
      "prune .git\n",
      "prune .github\n",
      "prune .tox\n",
      "prune .eggs\n",
      "prune .ci\n",
      "prune bones-scripts\n",
      "\n",
      "# Exclude auto-generated files\n",
      "recursive-exclude docs *.py\n",
      "\n",
      "# Patterns to exclude from any directory\n",
      "global-exclude *.ipynb_checkpoints*\n",
      "global-exclude *-checkpoint.ipynb\n",
      "\n",
      "# Exclude all bytecode\n",
      "global-exclude *.pyc *.pyo *.pyd\n"
     ]
    }
   ],
   "source": [
    "nengobones_yml = \"\"\"\n",
    "manifest_in: {}\n",
    "\"\"\"\n",
    "write_yml(nengobones_yml)\n",
    "\n",
    "!bones generate manifest-in\n",
    "display_contents(\"MANIFEST.in\")"
   ]
  },
  {
   "cell_type": "markdown",
   "metadata": {},
   "source": [
    "Arbitrary additions can be made to this list by setting configuration options with the\n",
    "appropriate MANIFEST rule heading:"
   ]
  },
  {
   "cell_type": "code",
   "execution_count": 16,
   "metadata": {
    "execution": {
     "iopub.execute_input": "2025-03-18T17:21:19.228393Z",
     "iopub.status.busy": "2025-03-18T17:21:19.228008Z",
     "iopub.status.idle": "2025-03-18T17:21:20.699623Z",
     "shell.execute_reply": "2025-03-18T17:21:20.698895Z"
    }
   },
   "outputs": [
    {
     "name": "stdout",
     "output_type": "stream",
     "text": [
      "# Automatically generated by nengo-bones, do not edit this file directly\n",
      "\n",
      "global-include *.py\n",
      "global-include *.sh\n",
      "global-include *.template\n",
      "include *.rst\n",
      "\n",
      "# Include files for CI and recreating the source dist\n",
      "include *.yml\n",
      "include *.yaml\n",
      "include *.toml\n",
      "include MANIFEST.in\n",
      "include .gitlint\n",
      "include .pylintrc\n",
      "\n",
      "# Directories to include\n",
      "graft docs\n",
      "\n",
      "# Subdirectories to exclude, if they exist\n",
      "prune docs/_build\n",
      "prune dist\n",
      "prune .git\n",
      "prune .github\n",
      "prune .tox\n",
      "prune .eggs\n",
      "prune .ci\n",
      "prune bones-scripts\n",
      "\n",
      "# Exclude auto-generated files\n",
      "recursive-exclude docs *.py\n",
      "\n",
      "# Patterns to exclude from any directory\n",
      "global-exclude *.ipynb_checkpoints*\n",
      "global-exclude *-checkpoint.ipynb\n",
      "\n",
      "# Exclude all bytecode\n",
      "global-exclude *.pyc *.pyo *.pyd\n",
      "\n",
      "# Repo-specific files\n",
      "global-include global_include_pattern0\n",
      "global-include global_include_pattern1\n",
      "graft graft_pattern0\n"
     ]
    }
   ],
   "source": [
    "nengobones_yml = \"\"\"\n",
    "manifest_in:\n",
    "    global-include:\n",
    "        - global_include_pattern0\n",
    "        - global_include_pattern1\n",
    "    graft:\n",
    "        - graft_pattern0\n",
    "\"\"\"\n",
    "write_yml(nengobones_yml)\n",
    "\n",
    "!bones generate manifest-in\n",
    "display_contents(\"MANIFEST.in\")"
   ]
  },
  {
   "cell_type": "markdown",
   "metadata": {},
   "source": [
    "## setup.cfg config\n",
    "\n",
    "The setup.cfg file contains configuration options for a number of different tools. In\n",
    "addition to the specific options defined below, the setup.cfg template makes use of the\n",
    "general `pkg_name` option to set various file/path names."
   ]
  },
  {
   "cell_type": "code",
   "execution_count": 17,
   "metadata": {
    "execution": {
     "iopub.execute_input": "2025-03-18T17:21:20.701911Z",
     "iopub.status.busy": "2025-03-18T17:21:20.701499Z",
     "iopub.status.idle": "2025-03-18T17:21:22.218022Z",
     "shell.execute_reply": "2025-03-18T17:21:22.217190Z"
    }
   },
   "outputs": [
    {
     "name": "stdout",
     "output_type": "stream",
     "text": [
      "# Automatically generated by nengo-bones, do not edit this file directly\n",
      "\n",
      "[build_sphinx]\n",
      "source-dir = docs\n",
      "build-dir = docs/_build\n",
      "all_files = 1\n",
      "\n",
      "[coverage:run]\n",
      "source = ./\n",
      "relative_files = True\n",
      "\n",
      "[coverage:report]\n",
      "# Regexes for lines to exclude from consideration\n",
      "exclude_lines =\n",
      "    # Have to re-enable the standard pragma\n",
      "    # place ``# pragma: no cover`` at the end of a line to ignore it\n",
      "    pragma: no cover\n",
      "\n",
      "    # Don't complain if tests don't hit defensive assertion code:\n",
      "    raise NotImplementedError\n",
      "\n",
      "    # `pass` is just a placeholder, fine if it's not covered\n",
      "    ^[ \\t]*pass$\n",
      "\n",
      "\n",
      "# Patterns for files to exclude from reporting\n",
      "omit =\n",
      "    */tests/test*\n",
      "\n",
      "[flake8]\n",
      "exclude =\n",
      "    __init__.py\n",
      "ignore =\n",
      "    E123\n",
      "    E133\n",
      "    E203\n",
      "    E226\n",
      "    E241\n",
      "    E242\n",
      "    E501\n",
      "    E731\n",
      "    F401\n",
      "    W503\n",
      "max-complexity = 10\n",
      "max-line-length = 88\n",
      "\n",
      "[tool:pytest]\n",
      "norecursedirs =\n",
      "    .*\n",
      "    *.egg\n",
      "    build\n",
      "    dist\n",
      "    docs\n",
      "xfail_strict = False\n",
      "\n",
      "[pylint]\n",
      "\n",
      "[pylint.messages]\n",
      "disable =\n",
      "    arguments-differ,\n",
      "    assignment-from-no-return,\n",
      "    attribute-defined-outside-init,\n",
      "    blacklisted-name,\n",
      "    comparison-with-callable,\n",
      "    duplicate-code,\n",
      "    fixme,\n",
      "    import-error,\n",
      "    invalid-name,\n",
      "    invalid-sequence-index,\n",
      "    len-as-condition,\n",
      "    literal-comparison,\n",
      "    no-else-raise,\n",
      "    no-else-return,\n",
      "    no-member,\n",
      "    no-name-in-module,\n",
      "    not-an-iterable,\n",
      "    not-context-manager,\n",
      "    protected-access,\n",
      "    redefined-builtin,\n",
      "    stop-iteration-return,\n",
      "    too-few-public-methods,\n",
      "    too-many-arguments,\n",
      "    too-many-branches,\n",
      "    too-many-instance-attributes,\n",
      "    too-many-lines,\n",
      "    too-many-locals,\n",
      "    too-many-positional-arguments,\n",
      "    too-many-return-statements,\n",
      "    too-many-statements,\n",
      "    unexpected-keyword-arg,\n",
      "    unidiomatic-typecheck,\n",
      "    unsubscriptable-object,\n",
      "    unsupported-assignment-operation,\n",
      "    unused-argument,\n",
      "\n",
      "[pylint.imports]\n",
      "known-third-party =\n",
      "    matplotlib,\n",
      "    nengo,\n",
      "    numpy,\n",
      "    pytest,\n",
      "\n",
      "[pylint.format]\n",
      "max-line-length = 88\n",
      "\n",
      "[pylint.classes]\n",
      "valid-metaclass-classmethod-first-arg = metacls\n",
      "\n",
      "[pylint.reports]\n",
      "reports = no\n",
      "score = no\n",
      "\n",
      "[codespell]\n",
      "skip = ./build,*/_build,*-checkpoint.ipynb,./.eggs,./*.egg-info,./.git,*/_vendor,./.mypy_cache,\n"
     ]
    }
   ],
   "source": [
    "nengobones_yml = \"\"\"\n",
    "setup_cfg: {}\n",
    "\"\"\"\n",
    "write_yml(nengobones_yml)\n",
    "\n",
    "!bones generate setup-cfg\n",
    "display_contents(\"setup.cfg\")"
   ]
  },
  {
   "cell_type": "markdown",
   "metadata": {},
   "source": [
    "Each of the tools configured by setup.cfg has its own subheading in the .nengobones.yml\n",
    "`setup_cfg` section.\n",
    "\n",
    "`coverage` has two options:\n",
    "\n",
    "- `exclude_lines`: a list of regex expressions that will be ignored in code coverage\n",
    "  reports\n",
    "- `omit_files`: a list of filename patterns that will be ignored\n",
    "\n",
    "Note that some defaults are already specified in both cases, and any options passed are\n",
    "in addition to those defaults."
   ]
  },
  {
   "cell_type": "code",
   "execution_count": 18,
   "metadata": {
    "execution": {
     "iopub.execute_input": "2025-03-18T17:21:22.220447Z",
     "iopub.status.busy": "2025-03-18T17:21:22.220022Z",
     "iopub.status.idle": "2025-03-18T17:21:23.696809Z",
     "shell.execute_reply": "2025-03-18T17:21:23.696148Z"
    }
   },
   "outputs": [
    {
     "name": "stdout",
     "output_type": "stream",
     "text": [
      "[coverage:run]\n",
      "source = ./\n",
      "relative_files = True\n",
      "\n",
      "[coverage:report]\n",
      "# Regexes for lines to exclude from consideration\n",
      "exclude_lines =\n",
      "    # Have to re-enable the standard pragma\n",
      "    # place ``# pragma: no cover`` at the end of a line to ignore it\n",
      "    pragma: no cover\n",
      "\n",
      "    # Don't complain if tests don't hit defensive assertion code:\n",
      "    raise NotImplementedError\n",
      "\n",
      "    # `pass` is just a placeholder, fine if it's not covered\n",
      "    ^[ \\t]*pass$\n",
      "\n",
      "    for *\n",
      "    while *\n",
      "\n",
      "# Patterns for files to exclude from reporting\n",
      "omit =\n",
      "    */tests/test*\n",
      "    subdir/*\n"
     ]
    }
   ],
   "source": [
    "nengobones_yml = \"\"\"\n",
    "setup_cfg:\n",
    "    coverage:\n",
    "        exclude_lines:\n",
    "            # Ignore all loops\n",
    "            - for *\n",
    "            - while *\n",
    "        omit_files:\n",
    "            # Ignore all files in subdirectory\n",
    "            - subdir/*\n",
    "\"\"\"\n",
    "write_yml(nengobones_yml)\n",
    "\n",
    "!bones generate setup-cfg\n",
    "display_contents(\"setup.cfg\", sections=[\"[coverage:run]\", \"[coverage:report]\"])"
   ]
  },
  {
   "cell_type": "markdown",
   "metadata": {},
   "source": [
    "The `flake8` section has two options:\n",
    "\n",
    "- `exclude`: a list of filename patterns to be ignored\n",
    "- `ignore`: a list of rules to be ignored; see https://www.flake8rules.com/\n",
    "  for a full list."
   ]
  },
  {
   "cell_type": "code",
   "execution_count": 19,
   "metadata": {
    "execution": {
     "iopub.execute_input": "2025-03-18T17:21:23.699098Z",
     "iopub.status.busy": "2025-03-18T17:21:23.698683Z",
     "iopub.status.idle": "2025-03-18T17:21:25.156440Z",
     "shell.execute_reply": "2025-03-18T17:21:25.155741Z"
    }
   },
   "outputs": [
    {
     "name": "stdout",
     "output_type": "stream",
     "text": [
      "[flake8]\n",
      "exclude =\n",
      "    __init__.py\n",
      "    subdir/*\n",
      "ignore =\n",
      "    E123\n",
      "    E133\n",
      "    E203\n",
      "    E226\n",
      "    E241\n",
      "    E242\n",
      "    E501\n",
      "    E731\n",
      "    F401\n",
      "    W503\n",
      "    E101\n",
      "    E111\n",
      "max-complexity = 10\n",
      "max-line-length = 88\n"
     ]
    }
   ],
   "source": [
    "nengobones_yml = \"\"\"\n",
    "setup_cfg:\n",
    "    flake8:\n",
    "        exclude:\n",
    "            - subdir/*\n",
    "        ignore:\n",
    "            - E101\n",
    "            - E111\n",
    "\"\"\"\n",
    "write_yml(nengobones_yml)\n",
    "\n",
    "!bones generate setup-cfg\n",
    "display_contents(\"setup.cfg\", sections=[\"[flake8]\"])"
   ]
  },
  {
   "cell_type": "markdown",
   "metadata": {},
   "source": [
    "The `pytest` section has the following general options:\n",
    "\n",
    "- `addopts`: A list of command line options to pass to any pytest invocation (defaults\n",
    "  to `-p nengo.tests.options`, which will add the pytest command line options from Nengo\n",
    "  core).\n",
    "- `xfail_strict`: If True, xpass will be treated as a failure (defaults to False).\n",
    "- `norecursedirs`: A list of directory name patterns that should not be searched for\n",
    "  test files.\n",
    "- `markers`: Descriptions for any custom markers that can be applied to test functions.\n",
    "- `filterwarnings`: Controls how warnings will be handled (see\n",
    "  https://docs.python.org/3/library/warnings.html#warning-filter for a description of\n",
    "  how to write warning filters).\n",
    "\n",
    "And the following options for Pytest plugins.\n",
    "\n",
    "pytest-allclose:\n",
    "\n",
    "- `allclose_tolerances`: A list of test name patterns and associated tolerance values.\n",
    "\n",
    "pytest_nengo:\n",
    "\n",
    "- `nengo_neurons`: Specifies which neuron types to test.\n",
    "- `nengo_simulator`: Specifies the Nengo backend to test.\n",
    "- `nengo_simloader`: Specifies a function that returns the Nengo backend to test.\n",
    "- `nengo_test_unsupported`: Marks which core tests are not expected to pass.\n",
    "\n",
    "pytest-plt:\n",
    "\n",
    "- `plt_dirname`: A directory name to store plots.\n",
    "- `plt_filename_drop`: A list of regular expressions to drop parts of plot filenames.\n",
    "\n",
    "pytest-rng:\n",
    "\n",
    "- `rng_salt`: A salt value to modify seeds."
   ]
  },
  {
   "cell_type": "code",
   "execution_count": 20,
   "metadata": {
    "execution": {
     "iopub.execute_input": "2025-03-18T17:21:25.158686Z",
     "iopub.status.busy": "2025-03-18T17:21:25.158294Z",
     "iopub.status.idle": "2025-03-18T17:21:26.642890Z",
     "shell.execute_reply": "2025-03-18T17:21:26.642186Z"
    }
   },
   "outputs": [
    {
     "name": "stdout",
     "output_type": "stream",
     "text": [
      "[tool:pytest]\n",
      "addopts = -p nengo.tests.options --colors=yes\n",
      "norecursedirs =\n",
      "    .*\n",
      "    *.egg\n",
      "    build\n",
      "    dist\n",
      "    docs\n",
      "    subdir0\n",
      "    subdir1\n",
      "markers =\n",
      "    marker0: description of marker0\n",
      "    marker1: description of marker1\n",
      "xfail_strict = True\n",
      "filterwarnings =\n",
      "    ignore::UserWarning\n",
      "    error::ResourceWarning\n",
      "nengo_test_unsupported =\n",
      "    test_ensemble.py::test_encoders*\n",
      "        \"This backend does not support encoders\"\n",
      "allclose_tolerances =\n",
      "    test_ensemble.py::test_encoders* atol=0.01 rtol=0.05  # comment\n",
      "plt_dirname = nengo.plots\n",
      "plt_filename_drop =\n",
      "    ^nengo\\.\n",
      "rng_salt = v1.0.0\n"
     ]
    }
   ],
   "source": [
    "nengobones_yml = r\"\"\"\n",
    "setup_cfg:\n",
    "    pytest:\n",
    "        addopts:\n",
    "            - -p nengo.tests.options\n",
    "            - --colors=yes\n",
    "        xfail_strict: true\n",
    "        norecursedirs:\n",
    "            - subdir0\n",
    "            - subdir1\n",
    "        markers:\n",
    "            marker0: description of marker0\n",
    "            marker1: description of marker1\n",
    "        filterwarnings:\n",
    "            - ignore::UserWarning\n",
    "            - error::ResourceWarning\n",
    "        nengo_test_unsupported:\n",
    "            test_ensemble.py::test_encoders*:\n",
    "                This backend does not support encoders\n",
    "        allclose_tolerances:\n",
    "            - \"test_ensemble.py::test_encoders* atol=0.01 rtol=0.05  # comment\"\n",
    "        plt_dirname: nengo.plots\n",
    "        plt_filename_drop:\n",
    "            - \"^nengo\\\\.\"\n",
    "        rng_salt: v1.0.0\n",
    "\"\"\"\n",
    "write_yml(nengobones_yml)\n",
    "\n",
    "!bones generate setup-cfg\n",
    "display_contents(\"setup.cfg\", sections=[\"[tool:pytest]\"])"
   ]
  },
  {
   "cell_type": "markdown",
   "metadata": {},
   "source": [
    "The `pylint` section has three options:\n",
    "\n",
    "- `ignore`: A list of filename patterns to ignore.\n",
    "- `disable`: A list of pylint rules to ignore (see\n",
    "  https://github.com/janjur/readable-pylint-messages). Note that a number of rules are\n",
    "  already disabled by default, and any rules specified here will be in addition to\n",
    "  those.\n",
    "- `known-third-party`: A list of third party modules (sometimes pylint will fail to\n",
    "  detect that a module is third-party, and then complain about the import order)."
   ]
  },
  {
   "cell_type": "code",
   "execution_count": 21,
   "metadata": {
    "execution": {
     "iopub.execute_input": "2025-03-18T17:21:26.645159Z",
     "iopub.status.busy": "2025-03-18T17:21:26.644850Z",
     "iopub.status.idle": "2025-03-18T17:21:28.160676Z",
     "shell.execute_reply": "2025-03-18T17:21:28.159966Z"
    }
   },
   "outputs": [
    {
     "name": "stdout",
     "output_type": "stream",
     "text": [
      "[pylint]\n",
      "ignore =\n",
      "    __init__.py,\n",
      "\n",
      "[pylint.messages]\n",
      "disable =\n",
      "    arguments-differ,\n",
      "    assignment-from-no-return,\n",
      "    attribute-defined-outside-init,\n",
      "    blacklisted-name,\n",
      "    comparison-with-callable,\n",
      "    duplicate-code,\n",
      "    fixme,\n",
      "    import-error,\n",
      "    invalid-name,\n",
      "    invalid-sequence-index,\n",
      "    len-as-condition,\n",
      "    literal-comparison,\n",
      "    no-else-raise,\n",
      "    no-else-return,\n",
      "    no-member,\n",
      "    no-name-in-module,\n",
      "    not-an-iterable,\n",
      "    not-context-manager,\n",
      "    protected-access,\n",
      "    redefined-builtin,\n",
      "    stop-iteration-return,\n",
      "    too-few-public-methods,\n",
      "    too-many-arguments,\n",
      "    too-many-branches,\n",
      "    too-many-instance-attributes,\n",
      "    too-many-lines,\n",
      "    too-many-locals,\n",
      "    too-many-positional-arguments,\n",
      "    too-many-return-statements,\n",
      "    too-many-statements,\n",
      "    unexpected-keyword-arg,\n",
      "    unidiomatic-typecheck,\n",
      "    unsubscriptable-object,\n",
      "    unsupported-assignment-operation,\n",
      "    unused-argument,\n",
      "    empty-docstring,\n",
      "    unneeded-not,\n",
      "\n",
      "[pylint.imports]\n",
      "known-third-party =\n",
      "    matplotlib,\n",
      "    nengo,\n",
      "    numpy,\n",
      "    pytest,\n",
      "    scipy,\n"
     ]
    }
   ],
   "source": [
    "nengobones_yml = \"\"\"\n",
    "setup_cfg:\n",
    "    pylint:\n",
    "        ignore:\n",
    "            - __init__.py\n",
    "        disable:\n",
    "            - empty-docstring\n",
    "            - unneeded-not\n",
    "        known_third_party:\n",
    "            - scipy\n",
    "\"\"\"\n",
    "write_yml(nengobones_yml)\n",
    "\n",
    "!bones generate setup-cfg\n",
    "display_contents(\n",
    "    \"setup.cfg\", sections=[\"[pylint]\", \"[pylint.messages]\", \"[pylint.imports]\"]\n",
    ")"
   ]
  },
  {
   "cell_type": "markdown",
   "metadata": {},
   "source": [
    "The `codespell` section has two options:\n",
    "\n",
    "- `skip`: A list of files to ignore.\n",
    "- `ignore_words`: A list of strings that we want to omit from spellchecking."
   ]
  },
  {
   "cell_type": "code",
   "execution_count": 22,
   "metadata": {
    "execution": {
     "iopub.execute_input": "2025-03-18T17:21:28.163045Z",
     "iopub.status.busy": "2025-03-18T17:21:28.162621Z",
     "iopub.status.idle": "2025-03-18T17:21:29.686056Z",
     "shell.execute_reply": "2025-03-18T17:21:29.685400Z"
    }
   },
   "outputs": [
    {
     "name": "stdout",
     "output_type": "stream",
     "text": [
      "[codespell]\n",
      "skip = ./build,*/_build,*-checkpoint.ipynb,./.eggs,./*.egg-info,./.git,*/_vendor,./.mypy_cache,filewitherrors.py\n",
      "ignore-words-list = notaword,stillnotaword\n"
     ]
    }
   ],
   "source": [
    "nengobones_yml = \"\"\"\n",
    "setup_cfg:\n",
    "    codespell:\n",
    "        skip:\n",
    "            - filewitherrors.py\n",
    "        ignore_words:\n",
    "            - notaword\n",
    "            - stillnotaword\n",
    "\"\"\"\n",
    "write_yml(nengobones_yml)\n",
    "\n",
    "!bones generate setup-cfg\n",
    "display_contents(\"setup.cfg\", sections=[\"[codespell]\"])"
   ]
  },
  {
   "cell_type": "markdown",
   "metadata": {},
   "source": [
    "## setup.py config\n",
    "\n",
    "The setup.py template has a number of configuration options, and also makes use of some\n",
    "of the general config settings (`pkg_name`, `author`, `author_email`, `description`)."
   ]
  },
  {
   "cell_type": "code",
   "execution_count": 23,
   "metadata": {
    "execution": {
     "iopub.execute_input": "2025-03-18T17:21:29.688072Z",
     "iopub.status.busy": "2025-03-18T17:21:29.687845Z",
     "iopub.status.idle": "2025-03-18T17:21:31.443840Z",
     "shell.execute_reply": "2025-03-18T17:21:31.443140Z"
    }
   },
   "outputs": [
    {
     "name": "stdout",
     "output_type": "stream",
     "text": [
      "# Automatically generated by nengo-bones, do not edit this file directly\n",
      "\n",
      "import io\n",
      "import pathlib\n",
      "import runpy\n",
      "\n",
      "try:\n",
      "    from setuptools import find_packages, setup\n",
      "except ImportError:\n",
      "    raise ImportError(\n",
      "        \"'setuptools' is required but not installed. To install it, \"\n",
      "        \"follow the instructions at \"\n",
      "        \"https://pip.pypa.io/en/stable/installing/#installing-with-get-pip-py\"\n",
      "    )\n",
      "\n",
      "\n",
      "def read(*filenames, **kwargs):\n",
      "    encoding = kwargs.get(\"encoding\", \"utf-8\")\n",
      "    sep = kwargs.get(\"sep\", \"\\n\")\n",
      "    buf = []\n",
      "    for filename in filenames:\n",
      "        with io.open(filename, encoding=encoding) as f:\n",
      "            buf.append(f.read())\n",
      "    return sep.join(buf)\n",
      "\n",
      "\n",
      "root = pathlib.Path(__file__).parent\n",
      "version = runpy.run_path(str(root / \"eg_package\" / \"version.py\"))[\"version\"]\n",
      "\n",
      "install_req = []\n",
      "docs_req = []\n",
      "optional_req = []\n",
      "tests_req = []\n",
      "\n",
      "setup(\n",
      "    name=\"eg-package\",\n",
      "    version=version,\n",
      "    author=\"Applied Brain Research\",\n",
      "    author_email=\"info@appliedbrainresearch.com\",\n",
      "    packages=find_packages(),\n",
      "    url=\"https://www.nengo.ai/eg-package\",\n",
      "    include_package_data=False,\n",
      "    license=\"Proprietary\",\n",
      "    description=\"\",\n",
      "    long_description=read(\"README.rst\", \"CHANGES.rst\"),\n",
      "    zip_safe=False,\n",
      "    install_requires=install_req,\n",
      "    extras_require={\n",
      "        \"all\": docs_req + optional_req + tests_req,\n",
      "        \"docs\": docs_req,\n",
      "        \"optional\": optional_req,\n",
      "        \"tests\": tests_req,\n",
      "    },\n",
      "    python_requires=\">=3.8\",\n",
      "    classifiers=[\n",
      "        \"License :: Other/Proprietary License\",\n",
      "    ],\n",
      ")\n"
     ]
    }
   ],
   "source": [
    "nengobones_yml = \"\"\"\n",
    "setup_py: {}\n",
    "\"\"\"\n",
    "write_yml(nengobones_yml)\n",
    "\n",
    "!bones generate setup-py\n",
    "display_contents(\"setup.py\")"
   ]
  },
  {
   "cell_type": "markdown",
   "metadata": {},
   "source": [
    "Package dependencies are defined in the `install_req` (the main dependencies required to\n",
    "use the package), `optional_req` (dependencies that aren't necessary but activate extra\n",
    "functionality), `docs_req` (requirements for building the documentation), and\n",
    "`tests_req` (requirements for running the test suite) fields."
   ]
  },
  {
   "cell_type": "code",
   "execution_count": 24,
   "metadata": {
    "execution": {
     "iopub.execute_input": "2025-03-18T17:21:31.445969Z",
     "iopub.status.busy": "2025-03-18T17:21:31.445753Z",
     "iopub.status.idle": "2025-03-18T17:21:33.193718Z",
     "shell.execute_reply": "2025-03-18T17:21:33.193021Z"
    }
   },
   "outputs": [
    {
     "name": "stdout",
     "output_type": "stream",
     "text": [
      "install_req = [\n",
      "    \"package0\",\n",
      "    \"package1\",\n",
      "optional_req = [\n",
      "    \"package2\",\n",
      "    \"package3\",\n",
      "docs_req = [\n",
      "    \"package4\",\n",
      "    \"package5\",\n",
      "tests_req = [\n",
      "    \"package6\",\n",
      "    \"package7\",\n"
     ]
    }
   ],
   "source": [
    "nengobones_yml = \"\"\"\n",
    "setup_py:\n",
    "    install_req:\n",
    "        - package0\n",
    "        - package1\n",
    "    optional_req:\n",
    "        - package2\n",
    "        - package3\n",
    "    docs_req:\n",
    "        - package4\n",
    "        - package5\n",
    "    tests_req:\n",
    "        - package6\n",
    "        - package7\n",
    "\"\"\"\n",
    "write_yml(nengobones_yml)\n",
    "\n",
    "!bones generate setup-py\n",
    "display_contents(\n",
    "    \"setup.py\", sections=[\"install_req\", \"optional_req\", \"docs_req\", \"tests_req\"]\n",
    ")"
   ]
  },
  {
   "cell_type": "markdown",
   "metadata": {},
   "source": [
    "There are a number of options that will be passed to the `setup` function:\n",
    "\n",
    "- `url`: A link to the project's homepage (defaults to nengo.ai/my-package).\n",
    "- `python_requires`: Python version requirement for this package\n",
    "  (defaults to `'>={{ min_python }}'`).\n",
    "- `include_package_data`: Whether or not to include files listed in `MANIFEST.in` in the\n",
    "  installation (defaults to False).\n",
    "- `package_data`: Mapping of extra data files to include in installation (not specified\n",
    "  by `MANIFEST.in`).\n",
    "- `classifiers`: List of\n",
    "  [Trove classifiers](https://pypi.org/pypi?%3Aaction=list_classifiers).\n",
    "- `entry_points`: Dictionary of entry points to make available.\n",
    "\n",
    "See the [distutils](https://docs.python.org/3.6/distutils/apiref.html) and\n",
    "[setuptools](https://setuptools.readthedocs.io/en/latest/userguide/keywords.html)\n",
    "documentation for more details on these options."
   ]
  },
  {
   "cell_type": "code",
   "execution_count": 25,
   "metadata": {
    "execution": {
     "iopub.execute_input": "2025-03-18T17:21:33.196007Z",
     "iopub.status.busy": "2025-03-18T17:21:33.195594Z",
     "iopub.status.idle": "2025-03-18T17:21:34.946504Z",
     "shell.execute_reply": "2025-03-18T17:21:34.945762Z"
    }
   },
   "outputs": [
    {
     "name": "stdout",
     "output_type": "stream",
     "text": [
      "setup(\n",
      "    name=\"eg-package\",\n",
      "    version=version,\n",
      "    author=\"Applied Brain Research\",\n",
      "    author_email=\"info@appliedbrainresearch.com\",\n",
      "    packages=find_packages(),\n",
      "    url=\"https://github.com/org/my-package\",\n",
      "    include_package_data=True,\n",
      "    license=\"Proprietary\",\n",
      "    description=\"\",\n",
      "    long_description=read(\"README.rst\", \"CHANGES.rst\"),\n",
      "    zip_safe=False,\n",
      "    install_requires=install_req,\n",
      "    extras_require={\n",
      "        \"all\": docs_req + optional_req + tests_req,\n",
      "        \"docs\": docs_req,\n",
      "        \"optional\": optional_req,\n",
      "        \"tests\": tests_req,\n",
      "    },\n",
      "    python_requires=\">=3.4,<3.9\",\n",
      "    package_data={\n",
      "        \"pkg\": [\n",
      "            \"file0\",\n",
      "            \"file1\",\n",
      "        ],\n",
      "    },\n",
      "    classifiers=[\n",
      "        \"Development Status :: 3 - Alpha\",\n",
      "        \"Framework :: Nengo\",\n",
      "        \"License :: Other/Proprietary License\",\n",
      "    ],\n",
      "    entry_points={\n",
      "        \"nengo.backends\": [\n",
      "            \"my_backend = my_backend:Simulator\",\n",
      "        ],\n",
      "        \"console_scripts\": [\n",
      "            \"my-script = my_project.file:function\",\n",
      "        ],\n",
      "    },\n"
     ]
    }
   ],
   "source": [
    "nengobones_yml = \"\"\"\n",
    "setup_py:\n",
    "    url: https://github.com/org/my-package\n",
    "    python_requires: \">=3.4,<3.9\"\n",
    "    include_package_data: true\n",
    "    package_data:\n",
    "        pkg:\n",
    "            - file0\n",
    "            - file1\n",
    "    classifiers:\n",
    "        - \"Development Status :: 3 - Alpha\"\n",
    "        - \"Framework :: Nengo\"\n",
    "    entry_points:\n",
    "        nengo.backends:\n",
    "            - my_backend = my_backend:Simulator\n",
    "        console_scripts:\n",
    "            - my-script = my_project.file:function\n",
    "\"\"\"\n",
    "write_yml(nengobones_yml)\n",
    "\n",
    "!bones generate setup-py\n",
    "display_contents(\"setup.py\", sections=[\"setup\"])"
   ]
  },
  {
   "cell_type": "markdown",
   "metadata": {},
   "source": [
    "## docs/conf.py config\n",
    "\n",
    "The `docs/conf.py` file contains settings controlling Sphinx documentation. It makes use\n",
    "of several general configuration options (`pkg_name`, `project_name`, `author`,\n",
    "`copyright_start`, `copyright_end`)."
   ]
  },
  {
   "cell_type": "code",
   "execution_count": 26,
   "metadata": {
    "execution": {
     "iopub.execute_input": "2025-03-18T17:21:34.948671Z",
     "iopub.status.busy": "2025-03-18T17:21:34.948473Z",
     "iopub.status.idle": "2025-03-18T17:21:36.704715Z",
     "shell.execute_reply": "2025-03-18T17:21:36.704010Z"
    }
   },
   "outputs": [
    {
     "name": "stdout",
     "output_type": "stream",
     "text": [
      "# -*- coding: utf-8 -*-\n",
      "#\n",
      "# Automatically generated by nengo-bones, do not edit this file directly\n",
      "\n",
      "import pathlib\n",
      "\n",
      "import eg_package\n",
      "\n",
      "extensions = [\n",
      "    \"sphinx.ext.autodoc\",\n",
      "    \"sphinx.ext.autosummary\",\n",
      "    \"sphinx.ext.doctest\",\n",
      "    \"sphinx.ext.githubpages\",\n",
      "    \"sphinx.ext.intersphinx\",\n",
      "    \"sphinx.ext.mathjax\",\n",
      "    \"sphinx.ext.todo\",\n",
      "    \"nbsphinx\",\n",
      "    \"nengo_sphinx_theme\",\n",
      "    \"nengo_sphinx_theme.ext.sourcelinks\",\n",
      "    \"notfound.extension\",\n",
      "    \"numpydoc\",\n",
      "]\n",
      "\n",
      "# -- sphinx.ext.autodoc\n",
      "autoclass_content = \"both\"  # class and __init__ docstrings are concatenated\n",
      "autodoc_default_options = {\"members\": None}\n",
      "autodoc_member_order = \"bysource\"  # default is alphabetical\n",
      "\n",
      "# -- sphinx.ext.doctest\n",
      "doctest_global_setup = \"\"\"\n",
      "import eg_package\n",
      "\"\"\"\n",
      "\n",
      "# -- sphinx.ext.intersphinx\n",
      "intersphinx_mapping = {\n",
      "    \"nengo\": (\"https://www.nengo.ai/nengo/\", None),\n",
      "    \"numpy\": (\"https://numpy.org/doc/stable\", None),\n",
      "    \"python\": (\"https://docs.python.org/3\", None),\n",
      "}\n",
      "\n",
      "# -- sphinx.ext.todo\n",
      "todo_include_todos = True\n",
      "\n",
      "# -- nbsphinx\n",
      "nbsphinx_timeout = -1\n",
      "\n",
      "# -- notfound.extension\n",
      "notfound_template = \"404.html\"\n",
      "notfound_urls_prefix = \"/eg-package/\"\n",
      "\n",
      "# -- numpydoc config\n",
      "numpydoc_show_class_members = False\n",
      "\n",
      "# -- nengo_sphinx_theme.ext.sourcelinks\n",
      "sourcelinks_module = \"eg_package\"\n",
      "sourcelinks_url = \"https://github.com/eg-org/eg-package\"\n",
      "\n",
      "# -- sphinx\n",
      "nitpicky = True\n",
      "exclude_patterns = [\n",
      "    \"_build\",\n",
      "    \"**/.ipynb_checkpoints\",\n",
      "]\n",
      "linkcheck_timeout = 30\n",
      "source_suffix = \".rst\"\n",
      "source_encoding = \"utf-8\"\n",
      "master_doc = \"index\"\n",
      "linkcheck_ignore = [r\"http://localhost:\\d+\"]\n",
      "linkcheck_anchors = True\n",
      "default_role = \"py:obj\"\n",
      "pygments_style = \"sphinx\"\n",
      "user_agent = \"eg_package\"\n",
      "\n",
      "project = \"Example Project\"\n",
      "authors = \"Applied Brain Research\"\n",
      "copyright = \"2025-2025 Applied Brain Research\"\n",
      "version = \".\".join(eg_package.__version__.split(\".\")[:2])  # Short X.Y version\n",
      "release = eg_package.__version__  # Full version, with tags\n",
      "\n",
      "# -- HTML output\n",
      "templates_path = [\"_templates\"]\n",
      "html_static_path = [\"_static\"]\n",
      "html_theme = \"nengo_sphinx_theme\"\n",
      "html_title = f\"Example Project {release} docs\"\n",
      "htmlhelp_basename = \"Example Project\"\n",
      "html_last_updated_fmt = \"\"  # Default output format (suppressed)\n",
      "html_show_sphinx = False\n",
      "html_favicon = str(pathlib.Path(\"_static\", \"favicon.ico\"))\n",
      "html_theme_options = {\n",
      "    \"nengo_logo\": \"general-full-light.svg\",\n",
      "    \"nengo_logo_color\": \"#a8acaf\",\n",
      "    \"analytics\": \"\"\"\n",
      "        <!-- Google tag (gtag.js) -->\n",
      "        <script async src=\"https://www.googletagmanager.com/gtag/js?id=G-GT8XEDLTMJ\"></script>\n",
      "        <script>\n",
      "         window.dataLayer = window.dataLayer || [];\n",
      "         function gtag(){dataLayer.push(arguments);}\n",
      "         gtag('js', new Date());\n",
      "         gtag('config', 'G-GT8XEDLTMJ');\n",
      "        </script>\n",
      "        <!-- End Google tag (gtag.js) -->\n",
      "        <!-- Matomo -->\n",
      "        <script>\n",
      "         var _paq = window._paq = window._paq || [];\n",
      "         _paq.push([\"setDocumentTitle\", document.domain + \"/\" + document.title]);\n",
      "         _paq.push([\"setCookieDomain\", \"*.appliedbrainresearch.com\"]);\n",
      "         _paq.push([\"setDomains\", [\"*.appliedbrainresearch.com\",\"*.edge.nengo.ai\",\"*.forum.nengo.ai\",\"*.nengo.ai\"]]);\n",
      "         _paq.push([\"enableCrossDomainLinking\"]);\n",
      "         _paq.push([\"setDoNotTrack\", true]);\n",
      "         _paq.push(['trackPageView']);\n",
      "         _paq.push(['enableLinkTracking']);\n",
      "         (function() {\n",
      "           var u=\"https://appliedbrainresearch.matomo.cloud/\";\n",
      "           _paq.push(['setTrackerUrl', u+'matomo.php']);\n",
      "           _paq.push(['setSiteId', '3']);\n",
      "           var d=document, g=d.createElement('script'), s=d.getElementsByTagName('script')[0];\n",
      "           g.async=true; g.src='//cdn.matomo.cloud/appliedbrainresearch.matomo.cloud/matomo.js'; s.parentNode.insertBefore(g,s);\n",
      "         })();\n",
      "        </script>\n",
      "        <!-- End Matomo Code -->\n",
      "    \"\"\",\n",
      "}\n"
     ]
    }
   ],
   "source": [
    "nengobones_yml = \"\"\"\n",
    "docs_conf_py: {}\n",
    "\"\"\"\n",
    "write_yml(nengobones_yml)\n",
    "\n",
    "!bones generate docs-conf-py\n",
    "display_contents(\"docs/conf.py\")"
   ]
  },
  {
   "cell_type": "markdown",
   "metadata": {},
   "source": [
    "Extra Sphinx extensions can be added by setting the `extensions` config option:"
   ]
  },
  {
   "cell_type": "code",
   "execution_count": 27,
   "metadata": {
    "execution": {
     "iopub.execute_input": "2025-03-18T17:21:36.706728Z",
     "iopub.status.busy": "2025-03-18T17:21:36.706514Z",
     "iopub.status.idle": "2025-03-18T17:21:38.434237Z",
     "shell.execute_reply": "2025-03-18T17:21:38.433538Z"
    }
   },
   "outputs": [
    {
     "name": "stdout",
     "output_type": "stream",
     "text": [
      "extensions = [\n",
      "    \"sphinx.ext.autodoc\",\n",
      "    \"sphinx.ext.autosummary\",\n",
      "    \"sphinx.ext.doctest\",\n",
      "    \"sphinx.ext.githubpages\",\n",
      "    \"sphinx.ext.intersphinx\",\n",
      "    \"sphinx.ext.mathjax\",\n",
      "    \"sphinx.ext.todo\",\n",
      "    \"nbsphinx\",\n",
      "    \"nengo_sphinx_theme\",\n",
      "    \"nengo_sphinx_theme.ext.sourcelinks\",\n",
      "    \"notfound.extension\",\n",
      "    \"numpydoc\",\n",
      "    \"a_sphinx_extension\",\n",
      "    \"another_sphinx_extension\",\n"
     ]
    }
   ],
   "source": [
    "nengobones_yml = \"\"\"\n",
    "docs_conf_py:\n",
    "    extensions:\n",
    "        - a_sphinx_extension\n",
    "        - another_sphinx_extension\n",
    "\"\"\"\n",
    "write_yml(nengobones_yml)\n",
    "\n",
    "!bones generate docs-conf-py\n",
    "display_contents(\"docs/conf.py\", sections=[\"extensions\"])"
   ]
  },
  {
   "cell_type": "markdown",
   "metadata": {},
   "source": [
    "Extra intersphinx mappings (for linking to documentation in other projects) can be added\n",
    "by setting the `intersphinx_mapping` config option, which is a mapping from package\n",
    "names to documentation URLs (the linked documentations must also be generated by\n",
    "Sphinx)."
   ]
  },
  {
   "cell_type": "code",
   "execution_count": 28,
   "metadata": {
    "execution": {
     "iopub.execute_input": "2025-03-18T17:21:38.436371Z",
     "iopub.status.busy": "2025-03-18T17:21:38.436144Z",
     "iopub.status.idle": "2025-03-18T17:21:40.192858Z",
     "shell.execute_reply": "2025-03-18T17:21:40.192095Z"
    }
   },
   "outputs": [
    {
     "name": "stdout",
     "output_type": "stream",
     "text": [
      "intersphinx_mapping = {\n",
      "    \"nengo\": (\"https://www.nengo.ai/nengo/\", None),\n",
      "    \"numpy\": (\"https://numpy.org/doc/stable\", None),\n",
      "    \"python\": (\"https://docs.python.org/3\", None),\n",
      "    \"scipy\": (\"https://docs.scipy.org/doc/scipy/reference\", None),\n",
      "    \"sklearn\": (\"https://scikit-learn.org/dev\", None),\n"
     ]
    }
   ],
   "source": [
    "nengobones_yml = \"\"\"\n",
    "docs_conf_py:\n",
    "    intersphinx_mapping:\n",
    "        scipy: https://docs.scipy.org/doc/scipy/reference\n",
    "        sklearn: https://scikit-learn.org/dev\n",
    "\"\"\"\n",
    "write_yml(nengobones_yml)\n",
    "\n",
    "!bones generate docs-conf-py\n",
    "display_contents(\"docs/conf.py\", sections=[\"intersphinx_mapping\"])"
   ]
  },
  {
   "cell_type": "markdown",
   "metadata": {},
   "source": [
    "The `exclude_patterns` config option is a list of file/directory name patterns that\n",
    "should not be included in the documentation rendering."
   ]
  },
  {
   "cell_type": "code",
   "execution_count": 29,
   "metadata": {
    "execution": {
     "iopub.execute_input": "2025-03-18T17:21:40.195434Z",
     "iopub.status.busy": "2025-03-18T17:21:40.194895Z",
     "iopub.status.idle": "2025-03-18T17:21:41.933228Z",
     "shell.execute_reply": "2025-03-18T17:21:41.932526Z"
    }
   },
   "outputs": [
    {
     "name": "stdout",
     "output_type": "stream",
     "text": [
      "exclude_patterns = [\n",
      "    \"_build\",\n",
      "    \"**/.ipynb_checkpoints\",\n",
      "    \"a-file.py\",\n",
      "    \"subdir\",\n"
     ]
    }
   ],
   "source": [
    "nengobones_yml = \"\"\"\n",
    "docs_conf_py:\n",
    "    exclude_patterns:\n",
    "        - a-file.py\n",
    "        - subdir\n",
    "\"\"\"\n",
    "write_yml(nengobones_yml)\n",
    "\n",
    "!bones generate docs-conf-py\n",
    "display_contents(\"docs/conf.py\", sections=[\"exclude_patterns\"])"
   ]
  },
  {
   "cell_type": "markdown",
   "metadata": {},
   "source": [
    "The `nengo_logo` config option contains the name of the logo image that will be rendered\n",
    "in the sidebar. The image filename refers to the\n",
    "[nengo/design](https://www.nengo.ai/design) assets. The default is\n",
    "`general-full-light.svg`, which refers to\n",
    "[this logo](https://www.nengo.ai/design/_images/general-full-light.svg)."
   ]
  },
  {
   "cell_type": "code",
   "execution_count": 30,
   "metadata": {
    "execution": {
     "iopub.execute_input": "2025-03-18T17:21:41.935513Z",
     "iopub.status.busy": "2025-03-18T17:21:41.935327Z",
     "iopub.status.idle": "2025-03-18T17:21:43.711741Z",
     "shell.execute_reply": "2025-03-18T17:21:43.711067Z"
    }
   },
   "outputs": [
    {
     "name": "stdout",
     "output_type": "stream",
     "text": [
      "html_theme_options = {\n",
      "    \"nengo_logo\": \"nengo-dl-full-light.svg\",\n",
      "    \"nengo_logo_color\": \"#a8acaf\",\n",
      "    \"analytics\": \"\"\"\n",
      "        <!-- Google tag (gtag.js) -->\n",
      "        <script async src=\"https://www.googletagmanager.com/gtag/js?id=G-GT8XEDLTMJ\"></script>\n",
      "        <script>\n",
      "         window.dataLayer = window.dataLayer || [];\n",
      "         function gtag(){dataLayer.push(arguments);}\n",
      "         gtag('js', new Date());\n",
      "         gtag('config', 'G-GT8XEDLTMJ');\n",
      "        </script>\n",
      "        <!-- End Google tag (gtag.js) -->\n",
      "        <!-- Matomo -->\n",
      "        <script>\n",
      "         var _paq = window._paq = window._paq || [];\n",
      "         _paq.push([\"setDocumentTitle\", document.domain + \"/\" + document.title]);\n",
      "         _paq.push([\"setCookieDomain\", \"*.appliedbrainresearch.com\"]);\n",
      "         _paq.push([\"setDomains\", [\"*.appliedbrainresearch.com\",\"*.edge.nengo.ai\",\"*.forum.nengo.ai\",\"*.nengo.ai\"]]);\n",
      "         _paq.push([\"enableCrossDomainLinking\"]);\n",
      "         _paq.push([\"setDoNotTrack\", true]);\n",
      "         _paq.push(['trackPageView']);\n",
      "         _paq.push(['enableLinkTracking']);\n",
      "         (function() {\n",
      "           var u=\"https://appliedbrainresearch.matomo.cloud/\";\n",
      "           _paq.push(['setTrackerUrl', u+'matomo.php']);\n",
      "           _paq.push(['setSiteId', '3']);\n",
      "           var d=document, g=d.createElement('script'), s=d.getElementsByTagName('script')[0];\n",
      "           g.async=true; g.src='//cdn.matomo.cloud/appliedbrainresearch.matomo.cloud/matomo.js'; s.parentNode.insertBefore(g,s);\n",
      "         })();\n",
      "        </script>\n",
      "        <!-- End Matomo Code -->\n",
      "    \"\"\",\n"
     ]
    }
   ],
   "source": [
    "nengobones_yml = \"\"\"\n",
    "docs_conf_py:\n",
    "    nengo_logo: nengo-dl-full-light.svg\n",
    "\"\"\"\n",
    "write_yml(nengobones_yml)\n",
    "\n",
    "!bones generate docs-conf-py\n",
    "display_contents(\"docs/conf.py\", sections=[\"html_theme_options\"])"
   ]
  },
  {
   "cell_type": "markdown",
   "metadata": {},
   "source": [
    "The `nengo_logo_color` config option contains the primary color associated with the\n",
    "logo. This information should also be present in the\n",
    "[nengo/design](https://www.nengo.ai/design) repository. The default is `#a8acaf`, which\n",
    "is a neutral gray appropriate for projects without a primary color.\n",
    "\n",
    "Note that because `#` prefixes comments in YAML, you must enclose hex color entries in\n",
    "single or double quotes."
   ]
  },
  {
   "cell_type": "code",
   "execution_count": 31,
   "metadata": {
    "execution": {
     "iopub.execute_input": "2025-03-18T17:21:43.713981Z",
     "iopub.status.busy": "2025-03-18T17:21:43.713543Z",
     "iopub.status.idle": "2025-03-18T17:21:45.474422Z",
     "shell.execute_reply": "2025-03-18T17:21:45.473759Z"
    }
   },
   "outputs": [
    {
     "name": "stdout",
     "output_type": "stream",
     "text": [
      "html_theme_options = {\n",
      "    \"nengo_logo\": \"general-full-light.svg\",\n",
      "    \"nengo_logo_color\": \"#abcdef\",\n",
      "    \"analytics\": \"\"\"\n",
      "        <!-- Google tag (gtag.js) -->\n",
      "        <script async src=\"https://www.googletagmanager.com/gtag/js?id=G-GT8XEDLTMJ\"></script>\n",
      "        <script>\n",
      "         window.dataLayer = window.dataLayer || [];\n",
      "         function gtag(){dataLayer.push(arguments);}\n",
      "         gtag('js', new Date());\n",
      "         gtag('config', 'G-GT8XEDLTMJ');\n",
      "        </script>\n",
      "        <!-- End Google tag (gtag.js) -->\n",
      "        <!-- Matomo -->\n",
      "        <script>\n",
      "         var _paq = window._paq = window._paq || [];\n",
      "         _paq.push([\"setDocumentTitle\", document.domain + \"/\" + document.title]);\n",
      "         _paq.push([\"setCookieDomain\", \"*.appliedbrainresearch.com\"]);\n",
      "         _paq.push([\"setDomains\", [\"*.appliedbrainresearch.com\",\"*.edge.nengo.ai\",\"*.forum.nengo.ai\",\"*.nengo.ai\"]]);\n",
      "         _paq.push([\"enableCrossDomainLinking\"]);\n",
      "         _paq.push([\"setDoNotTrack\", true]);\n",
      "         _paq.push(['trackPageView']);\n",
      "         _paq.push(['enableLinkTracking']);\n",
      "         (function() {\n",
      "           var u=\"https://appliedbrainresearch.matomo.cloud/\";\n",
      "           _paq.push(['setTrackerUrl', u+'matomo.php']);\n",
      "           _paq.push(['setSiteId', '3']);\n",
      "           var d=document, g=d.createElement('script'), s=d.getElementsByTagName('script')[0];\n",
      "           g.async=true; g.src='//cdn.matomo.cloud/appliedbrainresearch.matomo.cloud/matomo.js'; s.parentNode.insertBefore(g,s);\n",
      "         })();\n",
      "        </script>\n",
      "        <!-- End Matomo Code -->\n",
      "    \"\"\",\n"
     ]
    }
   ],
   "source": [
    "nengobones_yml = \"\"\"\n",
    "docs_conf_py:\n",
    "    nengo_logo_color: '#abcdef'\n",
    "\"\"\"\n",
    "write_yml(nengobones_yml)\n",
    "\n",
    "!bones generate docs-conf-py\n",
    "display_contents(\"docs/conf.py\", sections=[\"html_theme_options\"])"
   ]
  },
  {
   "cell_type": "markdown",
   "metadata": {},
   "source": [
    "The `doctest_setup` config option contains a list of Python statements that should be\n",
    "executed before the code in `.. testcode::` blocks, which are run with the\n",
    "`sphinx.ext.doctest` extension."
   ]
  },
  {
   "cell_type": "code",
   "execution_count": 32,
   "metadata": {
    "execution": {
     "iopub.execute_input": "2025-03-18T17:21:45.476496Z",
     "iopub.status.busy": "2025-03-18T17:21:45.476280Z",
     "iopub.status.idle": "2025-03-18T17:21:47.250856Z",
     "shell.execute_reply": "2025-03-18T17:21:47.250199Z"
    }
   },
   "outputs": [
    {
     "name": "stdout",
     "output_type": "stream",
     "text": [
      "# -*- coding: utf-8 -*-\n",
      "#\n",
      "# Automatically generated by nengo-bones, do not edit this file directly\n",
      "\n",
      "import pathlib\n",
      "\n",
      "import eg_package\n",
      "\n",
      "extensions = [\n",
      "    \"sphinx.ext.autodoc\",\n",
      "    \"sphinx.ext.autosummary\",\n",
      "    \"sphinx.ext.doctest\",\n",
      "    \"sphinx.ext.githubpages\",\n",
      "    \"sphinx.ext.intersphinx\",\n",
      "    \"sphinx.ext.mathjax\",\n",
      "    \"sphinx.ext.todo\",\n",
      "    \"nbsphinx\",\n",
      "    \"nengo_sphinx_theme\",\n",
      "    \"nengo_sphinx_theme.ext.sourcelinks\",\n",
      "    \"notfound.extension\",\n",
      "    \"numpydoc\",\n",
      "]\n",
      "\n",
      "# -- sphinx.ext.autodoc\n",
      "autoclass_content = \"both\"  # class and __init__ docstrings are concatenated\n",
      "autodoc_default_options = {\"members\": None}\n",
      "autodoc_member_order = \"bysource\"  # default is alphabetical\n",
      "\n",
      "# -- sphinx.ext.doctest\n",
      "doctest_global_setup = \"\"\"\n",
      "import eg_package\n",
      "import nengo\n",
      "\"\"\"\n",
      "\n",
      "# -- sphinx.ext.intersphinx\n",
      "intersphinx_mapping = {\n",
      "    \"nengo\": (\"https://www.nengo.ai/nengo/\", None),\n",
      "    \"numpy\": (\"https://numpy.org/doc/stable\", None),\n",
      "    \"python\": (\"https://docs.python.org/3\", None),\n",
      "}\n",
      "\n",
      "# -- sphinx.ext.todo\n",
      "todo_include_todos = True\n",
      "\n",
      "# -- nbsphinx\n",
      "nbsphinx_timeout = -1\n",
      "\n",
      "# -- notfound.extension\n",
      "notfound_template = \"404.html\"\n",
      "notfound_urls_prefix = \"/eg-package/\"\n",
      "\n",
      "# -- numpydoc config\n",
      "numpydoc_show_class_members = False\n",
      "\n",
      "# -- nengo_sphinx_theme.ext.sourcelinks\n",
      "sourcelinks_module = \"eg_package\"\n",
      "sourcelinks_url = \"https://github.com/eg-org/eg-package\"\n",
      "\n",
      "# -- sphinx\n",
      "nitpicky = True\n",
      "exclude_patterns = [\n",
      "    \"_build\",\n",
      "    \"**/.ipynb_checkpoints\",\n",
      "]\n",
      "linkcheck_timeout = 30\n",
      "source_suffix = \".rst\"\n",
      "source_encoding = \"utf-8\"\n",
      "master_doc = \"index\"\n",
      "linkcheck_ignore = [r\"http://localhost:\\d+\"]\n",
      "linkcheck_anchors = True\n",
      "default_role = \"py:obj\"\n",
      "pygments_style = \"sphinx\"\n",
      "user_agent = \"eg_package\"\n",
      "\n",
      "project = \"Example Project\"\n",
      "authors = \"Applied Brain Research\"\n",
      "copyright = \"2025-2025 Applied Brain Research\"\n",
      "version = \".\".join(eg_package.__version__.split(\".\")[:2])  # Short X.Y version\n",
      "release = eg_package.__version__  # Full version, with tags\n",
      "\n",
      "# -- HTML output\n",
      "templates_path = [\"_templates\"]\n",
      "html_static_path = [\"_static\"]\n",
      "html_theme = \"nengo_sphinx_theme\"\n",
      "html_title = f\"Example Project {release} docs\"\n",
      "htmlhelp_basename = \"Example Project\"\n",
      "html_last_updated_fmt = \"\"  # Default output format (suppressed)\n",
      "html_show_sphinx = False\n",
      "html_favicon = str(pathlib.Path(\"_static\", \"favicon.ico\"))\n",
      "html_theme_options = {\n",
      "    \"nengo_logo\": \"general-full-light.svg\",\n",
      "    \"nengo_logo_color\": \"#a8acaf\",\n",
      "    \"analytics\": \"\"\"\n",
      "        <!-- Google tag (gtag.js) -->\n",
      "        <script async src=\"https://www.googletagmanager.com/gtag/js?id=G-GT8XEDLTMJ\"></script>\n",
      "        <script>\n",
      "         window.dataLayer = window.dataLayer || [];\n",
      "         function gtag(){dataLayer.push(arguments);}\n",
      "         gtag('js', new Date());\n",
      "         gtag('config', 'G-GT8XEDLTMJ');\n",
      "        </script>\n",
      "        <!-- End Google tag (gtag.js) -->\n",
      "        <!-- Matomo -->\n",
      "        <script>\n",
      "         var _paq = window._paq = window._paq || [];\n",
      "         _paq.push([\"setDocumentTitle\", document.domain + \"/\" + document.title]);\n",
      "         _paq.push([\"setCookieDomain\", \"*.appliedbrainresearch.com\"]);\n",
      "         _paq.push([\"setDomains\", [\"*.appliedbrainresearch.com\",\"*.edge.nengo.ai\",\"*.forum.nengo.ai\",\"*.nengo.ai\"]]);\n",
      "         _paq.push([\"enableCrossDomainLinking\"]);\n",
      "         _paq.push([\"setDoNotTrack\", true]);\n",
      "         _paq.push(['trackPageView']);\n",
      "         _paq.push(['enableLinkTracking']);\n",
      "         (function() {\n",
      "           var u=\"https://appliedbrainresearch.matomo.cloud/\";\n",
      "           _paq.push(['setTrackerUrl', u+'matomo.php']);\n",
      "           _paq.push(['setSiteId', '3']);\n",
      "           var d=document, g=d.createElement('script'), s=d.getElementsByTagName('script')[0];\n",
      "           g.async=true; g.src='//cdn.matomo.cloud/appliedbrainresearch.matomo.cloud/matomo.js'; s.parentNode.insertBefore(g,s);\n",
      "         })();\n",
      "        </script>\n",
      "        <!-- End Matomo Code -->\n",
      "    \"\"\",\n",
      "}\n"
     ]
    }
   ],
   "source": [
    "nengobones_yml = \"\"\"\n",
    "docs_conf_py:\n",
    "    doctest_setup:\n",
    "        - import nengo\n",
    "\"\"\"\n",
    "write_yml(nengobones_yml)\n",
    "\n",
    "!bones generate docs-conf-py\n",
    "display_contents(\"docs/conf.py\")"
   ]
  },
  {
   "cell_type": "markdown",
   "metadata": {},
   "source": [
    "The `html_redirects` config option contains a mapping from original locations to new\n",
    "locations for generated HTML files that have been moved."
   ]
  },
  {
   "cell_type": "code",
   "execution_count": 33,
   "metadata": {
    "execution": {
     "iopub.execute_input": "2025-03-18T17:21:47.252882Z",
     "iopub.status.busy": "2025-03-18T17:21:47.252662Z",
     "iopub.status.idle": "2025-03-18T17:21:49.007241Z",
     "shell.execute_reply": "2025-03-18T17:21:49.006512Z"
    }
   },
   "outputs": [
    {
     "name": "stdout",
     "output_type": "stream",
     "text": [
      "extensions = [\n",
      "    \"sphinx.ext.autodoc\",\n",
      "    \"sphinx.ext.autosummary\",\n",
      "    \"sphinx.ext.doctest\",\n",
      "    \"sphinx.ext.githubpages\",\n",
      "    \"sphinx.ext.intersphinx\",\n",
      "    \"sphinx.ext.mathjax\",\n",
      "    \"sphinx.ext.todo\",\n",
      "    \"nbsphinx\",\n",
      "    \"nengo_sphinx_theme\",\n",
      "    \"nengo_sphinx_theme.ext.redirects\",\n",
      "    \"nengo_sphinx_theme.ext.sourcelinks\",\n",
      "    \"notfound.extension\",\n",
      "    \"numpydoc\",\n",
      "html_redirects = [\n",
      "    (\"old_file.html\", \"new-file.html\"),\n"
     ]
    }
   ],
   "source": [
    "nengobones_yml = \"\"\"\n",
    "docs_conf_py:\n",
    "    html_redirects:\n",
    "        old_file.html: new-file.html\n",
    "\"\"\"\n",
    "write_yml(nengobones_yml)\n",
    "\n",
    "!bones generate docs-conf-py\n",
    "display_contents(\"docs/conf.py\", sections=[\"extensions\", \"html_redirects\"])"
   ]
  },
  {
   "cell_type": "markdown",
   "metadata": {},
   "source": [
    "The `autoautosummary_change_modules` config option allows the module of\n",
    "classes/functions to be changed in `autoautosummary` or `automodule` directives. For\n",
    "example, this can be used so that `nengo.ensemble.Ensemble` shows up as `nengo.Ensemble`\n",
    "in the documentation. Note that this depends on the\n",
    "`nengo_sphinx_theme.ext.autoautosummary` extension."
   ]
  },
  {
   "cell_type": "code",
   "execution_count": 34,
   "metadata": {
    "execution": {
     "iopub.execute_input": "2025-03-18T17:21:49.009481Z",
     "iopub.status.busy": "2025-03-18T17:21:49.009093Z",
     "iopub.status.idle": "2025-03-18T17:21:50.757960Z",
     "shell.execute_reply": "2025-03-18T17:21:50.757288Z"
    }
   },
   "outputs": [
    {
     "name": "stdout",
     "output_type": "stream",
     "text": [
      "autoautosummary_change_modules = {\n",
      "    \"nengo\": [\n",
      "        \"nengo.ensemble.Ensemble\",\n",
      "        \"nengo.connection.Connection\",\n",
      "    ],\n",
      "    \"nengo.another_module\": [\n",
      "        \"nengo.some.function\",\n",
      "    ],\n"
     ]
    }
   ],
   "source": [
    "nengobones_yml = \"\"\"\n",
    "docs_conf_py:\n",
    "    autoautosummary_change_modules:\n",
    "        nengo:\n",
    "            - nengo.ensemble.Ensemble\n",
    "            - nengo.connection.Connection\n",
    "        nengo.another_module:\n",
    "            - nengo.some.function\n",
    "\"\"\"\n",
    "write_yml(nengobones_yml)\n",
    "\n",
    "!bones generate docs-conf-py\n",
    "display_contents(\"docs/conf.py\", sections=[\"autoautosummary_change_modules\"])"
   ]
  },
  {
   "cell_type": "markdown",
   "metadata": {},
   "source": [
    "The `one_page` config option can be used for projects that include all of their\n",
    "documentation on a single index page."
   ]
  },
  {
   "cell_type": "code",
   "execution_count": 35,
   "metadata": {
    "execution": {
     "iopub.execute_input": "2025-03-18T17:21:50.760229Z",
     "iopub.status.busy": "2025-03-18T17:21:50.759819Z",
     "iopub.status.idle": "2025-03-18T17:21:52.529467Z",
     "shell.execute_reply": "2025-03-18T17:21:52.528745Z"
    }
   },
   "outputs": [
    {
     "name": "stdout",
     "output_type": "stream",
     "text": [
      "html_theme_options = {\n",
      "    \"nengo_logo\": \"general-full-light.svg\",\n",
      "    \"nengo_logo_color\": \"#a8acaf\",\n",
      "    \"analytics\": \"\"\"\n",
      "        <!-- Google tag (gtag.js) -->\n",
      "        <script async src=\"https://www.googletagmanager.com/gtag/js?id=G-GT8XEDLTMJ\"></script>\n",
      "        <script>\n",
      "         window.dataLayer = window.dataLayer || [];\n",
      "         function gtag(){dataLayer.push(arguments);}\n",
      "         gtag('js', new Date());\n",
      "         gtag('config', 'G-GT8XEDLTMJ');\n",
      "        </script>\n",
      "        <!-- End Google tag (gtag.js) -->\n",
      "        <!-- Matomo -->\n",
      "        <script>\n",
      "         var _paq = window._paq = window._paq || [];\n",
      "         _paq.push([\"setDocumentTitle\", document.domain + \"/\" + document.title]);\n",
      "         _paq.push([\"setCookieDomain\", \"*.appliedbrainresearch.com\"]);\n",
      "         _paq.push([\"setDomains\", [\"*.appliedbrainresearch.com\",\"*.edge.nengo.ai\",\"*.forum.nengo.ai\",\"*.nengo.ai\"]]);\n",
      "         _paq.push([\"enableCrossDomainLinking\"]);\n",
      "         _paq.push([\"setDoNotTrack\", true]);\n",
      "         _paq.push(['trackPageView']);\n",
      "         _paq.push(['enableLinkTracking']);\n",
      "         (function() {\n",
      "           var u=\"https://appliedbrainresearch.matomo.cloud/\";\n",
      "           _paq.push(['setTrackerUrl', u+'matomo.php']);\n",
      "           _paq.push(['setSiteId', '3']);\n",
      "           var d=document, g=d.createElement('script'), s=d.getElementsByTagName('script')[0];\n",
      "           g.async=true; g.src='//cdn.matomo.cloud/appliedbrainresearch.matomo.cloud/matomo.js'; s.parentNode.insertBefore(g,s);\n",
      "         })();\n",
      "        </script>\n",
      "        <!-- End Matomo Code -->\n",
      "    \"\"\",\n",
      "    \"one_page\": True,\n"
     ]
    }
   ],
   "source": [
    "nengobones_yml = \"\"\"\n",
    "docs_conf_py:\n",
    "    one_page: True\n",
    "\"\"\"\n",
    "write_yml(nengobones_yml)\n",
    "\n",
    "!bones generate docs-conf-py\n",
    "display_contents(\"docs/conf.py\", sections=[\"html_theme_options\"])"
   ]
  },
  {
   "cell_type": "markdown",
   "metadata": {},
   "source": [
    "Finally, the `sphinx_options` config option can be used to set arbitrary options of the\n",
    "form `var = val` in the conf.py file."
   ]
  },
  {
   "cell_type": "code",
   "execution_count": 36,
   "metadata": {
    "execution": {
     "iopub.execute_input": "2025-03-18T17:21:52.531804Z",
     "iopub.status.busy": "2025-03-18T17:21:52.531392Z",
     "iopub.status.idle": "2025-03-18T17:21:54.283088Z",
     "shell.execute_reply": "2025-03-18T17:21:54.282452Z"
    }
   },
   "outputs": [
    {
     "name": "stdout",
     "output_type": "stream",
     "text": [
      "default_role = \"py:obj\"\n",
      "pygments_style = \"sphinx\"\n",
      "an_option = \"a string value\"\n",
      "another_option = [\"a\", \"list\", \"value\"]\n"
     ]
    }
   ],
   "source": [
    "nengobones_yml = \"\"\"\n",
    "docs_conf_py:\n",
    "    sphinx_options:\n",
    "        an_option: \"'a string value'\"\n",
    "        another_option: [\"a\", \"list\", \"value\"]\n",
    "\"\"\"\n",
    "write_yml(nengobones_yml)\n",
    "\n",
    "!bones generate docs-conf-py\n",
    "display_contents(\n",
    "    \"docs/conf.py\",\n",
    "    sections=[\"default_role\", \"pygments_style\", \"an_option\", \"another_option\"],\n",
    ")"
   ]
  },
  {
   "cell_type": "markdown",
   "metadata": {},
   "source": [
    "## pyproject.toml config\n",
    "\n",
    "The `pyproject.toml` template has two available configurations:\n",
    "- ``black_exclude``: A list of patterns to exclude during ``black`` formatting.\n",
    "- ``isort_exclude``: A list of patterns to exclude during ``isort`` formatting.\n",
    "\n",
    "For each configuration option, the entries must be valid regular expressions.\n",
    "\n",
    "When you add this file to your `.nengobones.yml` file, you should also add something\n",
    "to your documentation to indicate that users should configure their editor to run\n",
    "``black``\n",
    "and/or ``isort`` automatically."
   ]
  },
  {
   "cell_type": "code",
   "execution_count": 37,
   "metadata": {
    "execution": {
     "iopub.execute_input": "2025-03-18T17:21:54.285225Z",
     "iopub.status.busy": "2025-03-18T17:21:54.284794Z",
     "iopub.status.idle": "2025-03-18T17:21:55.745756Z",
     "shell.execute_reply": "2025-03-18T17:21:55.745126Z"
    }
   },
   "outputs": [
    {
     "name": "stdout",
     "output_type": "stream",
     "text": [
      "# Automatically generated by nengo-bones, do not edit this file directly\n",
      "\n",
      "[build-system]\n",
      "requires = [\"setuptools\", \"wheel\"]\n",
      "build-backend = \"setuptools.build_meta\"\n",
      "\n",
      "[tool.black]\n",
      "target-version = ['py38']\n",
      "force_exclude = '''\n",
      "(\n",
      "    project/ignore_me.py\n",
      ")\n",
      "'''\n",
      "\n",
      "[tool.isort]\n",
      "profile = \"black\"\n",
      "src_paths = [\"eg_package\"]\n",
      "skip_gitignore = true\n",
      "extend_skip_glob = [\n",
      "    \"project/ignore_me/**\"\n",
      "]\n",
      "\n",
      "[tool.docformatter]\n",
      "wrap-summaries = 88\n",
      "wrap-descriptions = 81\n",
      "pre-summary-newline = true\n"
     ]
    }
   ],
   "source": [
    "nengobones_yml = \"\"\"\n",
    "pyproject_toml:\n",
    "    black_exclude:\n",
    "        - project/ignore_me.py\n",
    "    isort_exclude:\n",
    "        - project/ignore_me/**\n",
    "\"\"\"\n",
    "write_yml(nengobones_yml)\n",
    "\n",
    "!bones generate pyproject-toml\n",
    "display_contents(\"pyproject.toml\")"
   ]
  },
  {
   "cell_type": "markdown",
   "metadata": {},
   "source": [
    "## py.typed config\n",
    "\n",
    "The `py.typed` file lets other Python packages know that your package has type hints.\n",
    "The file has no contents, so there is nothing to configure,\n",
    "but we use the presence of this config section\n",
    "to generate the file and modify other templates,\n",
    "such as adding a `mypy` check in `.ci/static.sh`.\n",
    "See [PEP-561](https://www.python.org/dev/peps/pep-0561/) for more context."
   ]
  },
  {
   "cell_type": "code",
   "execution_count": 38,
   "metadata": {
    "execution": {
     "iopub.execute_input": "2025-03-18T17:21:55.747982Z",
     "iopub.status.busy": "2025-03-18T17:21:55.747566Z",
     "iopub.status.idle": "2025-03-18T17:21:57.225721Z",
     "shell.execute_reply": "2025-03-18T17:21:57.225017Z"
    }
   },
   "outputs": [
    {
     "data": {
      "text/plain": [
       "[PosixPath('eg_package/py.typed')]"
      ]
     },
     "execution_count": 38,
     "metadata": {},
     "output_type": "execute_result"
    }
   ],
   "source": [
    "nengobones_yml = \"\"\"\n",
    "py_typed: {}\n",
    "\"\"\"\n",
    "write_yml(nengobones_yml)\n",
    "\n",
    "!bones generate py-typed\n",
    "list(pathlib.Path(\"eg_package\").iterdir())"
   ]
  },
  {
   "cell_type": "markdown",
   "metadata": {},
   "source": [
    "## version.py config\n",
    "\n",
    "The ``version.py`` file is used to store version information about the package.\n",
    "It supports both [Semantic](https://semver.org/) and [Calendar](https://calver.org/)\n",
    "versioning (controlled by the ``type`` option). For semantic versioning the user\n",
    "should specify the ``major``, ``minor``, and ``patch`` options.\n",
    "For both types the user should specify the ``release`` option, which should be ``True``\n",
    "for releases and ``False`` otherwise."
   ]
  },
  {
   "cell_type": "code",
   "execution_count": 39,
   "metadata": {
    "execution": {
     "iopub.execute_input": "2025-03-18T17:21:57.227764Z",
     "iopub.status.busy": "2025-03-18T17:21:57.227567Z",
     "iopub.status.idle": "2025-03-18T17:21:58.932489Z",
     "shell.execute_reply": "2025-03-18T17:21:58.931847Z"
    }
   },
   "outputs": [
    {
     "name": "stdout",
     "output_type": "stream",
     "text": [
      "1.2.3\n"
     ]
    }
   ],
   "source": [
    "nengobones_yml = \"\"\"\n",
    "version_py:\n",
    "    type: semver\n",
    "    major: 1\n",
    "    minor: 2\n",
    "    patch: 3\n",
    "    release: true\n",
    "\"\"\"\n",
    "write_yml(nengobones_yml)\n",
    "\n",
    "!bones generate version-py\n",
    "from eg_package import version  # pylint: disable=wrong-import-order\n",
    "\n",
    "print(version.version)"
   ]
  },
  {
   "cell_type": "code",
   "execution_count": 40,
   "metadata": {
    "execution": {
     "iopub.execute_input": "2025-03-18T17:21:58.934695Z",
     "iopub.status.busy": "2025-03-18T17:21:58.934314Z",
     "iopub.status.idle": "2025-03-18T17:22:00.670525Z",
     "shell.execute_reply": "2025-03-18T17:22:00.669870Z"
    }
   },
   "outputs": [
    {
     "name": "stdout",
     "output_type": "stream",
     "text": [
      "25.3.18.dev0\n"
     ]
    }
   ],
   "source": [
    "nengobones_yml = \"\"\"\n",
    "version_py:\n",
    "    type: calver\n",
    "    release: false\n",
    "\"\"\"\n",
    "write_yml(nengobones_yml)\n",
    "\n",
    "!bones generate version-py\n",
    "reload(version)\n",
    "print(version.version)"
   ]
  },
  {
   "cell_type": "markdown",
   "metadata": {},
   "source": [
    "## Github Actions\n",
    "\n",
    "NengoBones provides a number of Actions which can be used with Github\n",
    "Actions to automate common parts of a workflow. These can be used like\n",
    "\n",
    "```\n",
    "jobs:\n",
    "  ...\n",
    "  steps:\n",
    "    ...\n",
    "    - uses: nengo/nengo-bones/actions/generate-and-check@main\n",
    "```\n",
    "\n",
    "See the ``nengo-bones/actions`` directory for the available actions. See the [Github\n",
    "Actions\n",
    "documentation](https://docs.github.com/en/actions/using-workflows/workflow-syntax-for-github-actions)\n",
    "for instructions on using Github Actions. The ``.github/workflows/ci.yml`` file in the\n",
    "NengoBones repository may also be a helpful starting point."
   ]
  },
  {
   "cell_type": "markdown",
   "metadata": {},
   "source": [
    "---"
   ]
  },
  {
   "cell_type": "code",
   "execution_count": 41,
   "metadata": {
    "execution": {
     "iopub.execute_input": "2025-03-18T17:22:00.672746Z",
     "iopub.status.busy": "2025-03-18T17:22:00.672362Z",
     "iopub.status.idle": "2025-03-18T17:22:00.676271Z",
     "shell.execute_reply": "2025-03-18T17:22:00.675812Z"
    }
   },
   "outputs": [],
   "source": [
    "# clean up the temporary files generated by this notebook\n",
    "\n",
    "files = list(nengo_bones.all_files) + [\n",
    "    \".nengobones.yml\",\n",
    "    \"test.sh\",\n",
    "    \"test2.sh\",\n",
    "    \"static.sh\",\n",
    "]\n",
    "\n",
    "for file in files:\n",
    "    path = pathlib.Path(file)\n",
    "    if path.exists():\n",
    "        path.unlink()"
   ]
  }
 ],
 "metadata": {
  "language_info": {
   "codemirror_mode": {
    "name": "ipython",
    "version": 3
   },
   "file_extension": ".py",
   "mimetype": "text/x-python",
   "name": "python",
   "nbconvert_exporter": "python",
   "pygments_lexer": "ipython3",
   "version": "3.9.21"
  }
 },
 "nbformat": 4,
 "nbformat_minor": 2
}
